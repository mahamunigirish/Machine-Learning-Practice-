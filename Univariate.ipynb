{
  "nbformat": 4,
  "nbformat_minor": 0,
  "metadata": {
    "colab": {
      "name": "Univariate.ipynb",
      "provenance": [],
      "authorship_tag": "ABX9TyOORG3ZqmxvZjTTEZ+TOfoe",
      "include_colab_link": true
    },
    "kernelspec": {
      "name": "python3",
      "display_name": "Python 3"
    },
    "language_info": {
      "name": "python"
    }
  },
  "cells": [
    {
      "cell_type": "markdown",
      "metadata": {
        "id": "view-in-github",
        "colab_type": "text"
      },
      "source": [
        "<a href=\"https://colab.research.google.com/github/mahamunigirish/Machine-Learning-Practice-/blob/main/Univariate.ipynb\" target=\"_parent\"><img src=\"https://colab.research.google.com/assets/colab-badge.svg\" alt=\"Open In Colab\"/></a>"
      ]
    },
    {
      "cell_type": "code",
      "metadata": {
        "colab": {
          "base_uri": "https://localhost:8080/"
        },
        "id": "l0svQvpl8BHK",
        "outputId": "671c07dd-7035-4646-a4bd-c6ba8190ee14"
      },
      "source": [
        "from google.colab import drive\n",
        "drive.mount('/content/drive')"
      ],
      "execution_count": 10,
      "outputs": [
        {
          "output_type": "stream",
          "text": [
            "Drive already mounted at /content/drive; to attempt to forcibly remount, call drive.mount(\"/content/drive\", force_remount=True).\n"
          ],
          "name": "stdout"
        }
      ]
    },
    {
      "cell_type": "code",
      "metadata": {
        "colab": {
          "base_uri": "https://localhost:8080/"
        },
        "id": "FGBEdUUw8NN8",
        "outputId": "8a2439f2-bc1f-4287-dc6d-adc0a413ef08"
      },
      "source": [
        "cd '/content/drive/MyDrive/student'"
      ],
      "execution_count": 11,
      "outputs": [
        {
          "output_type": "stream",
          "text": [
            "/content/drive/MyDrive/student\n"
          ],
          "name": "stdout"
        }
      ]
    },
    {
      "cell_type": "code",
      "metadata": {
        "colab": {
          "base_uri": "https://localhost:8080/"
        },
        "id": "YLx8pTUF8Tvq",
        "outputId": "a1929a30-c824-4892-ac71-992c9e2e3b8d"
      },
      "source": [
        "ls"
      ],
      "execution_count": 12,
      "outputs": [
        {
          "output_type": "stream",
          "text": [
            "cleanedMathData.csv  student-merge.R  student.txt\n",
            "student-mat.csv      student-por.csv\n"
          ],
          "name": "stdout"
        }
      ]
    },
    {
      "cell_type": "code",
      "metadata": {
        "id": "bwIVCvXg8VTS"
      },
      "source": [
        "import pandas as pd\n",
        "import numpy as np  \n",
        "import tensorflow as tf\n",
        "from tensorflow import keras \n",
        "import os "
      ],
      "execution_count": 13,
      "outputs": []
    },
    {
      "cell_type": "code",
      "metadata": {
        "id": "NBTzJypG8n9h"
      },
      "source": [
        "mathData  =  pd.read_csv('student-mat.csv' , sep = ';')"
      ],
      "execution_count": 14,
      "outputs": []
    },
    {
      "cell_type": "code",
      "metadata": {
        "colab": {
          "base_uri": "https://localhost:8080/"
        },
        "id": "ICYFWB9g9d8M",
        "outputId": "0d79bbd8-daa7-4124-ddc7-507f0b440e3c"
      },
      "source": [
        "mathData.head"
      ],
      "execution_count": 15,
      "outputs": [
        {
          "output_type": "execute_result",
          "data": {
            "text/plain": [
              "<bound method NDFrame.head of     school sex  age address famsize Pstatus  ...  Walc  health absences  G1  G2  G3\n",
              "0       GP   F   18       U     GT3       A  ...     1       3        6   5   6   6\n",
              "1       GP   F   17       U     GT3       T  ...     1       3        4   5   5   6\n",
              "2       GP   F   15       U     LE3       T  ...     3       3       10   7   8  10\n",
              "3       GP   F   15       U     GT3       T  ...     1       5        2  15  14  15\n",
              "4       GP   F   16       U     GT3       T  ...     2       5        4   6  10  10\n",
              "..     ...  ..  ...     ...     ...     ...  ...   ...     ...      ...  ..  ..  ..\n",
              "390     MS   M   20       U     LE3       A  ...     5       4       11   9   9   9\n",
              "391     MS   M   17       U     LE3       T  ...     4       2        3  14  16  16\n",
              "392     MS   M   21       R     GT3       T  ...     3       3        3  10   8   7\n",
              "393     MS   M   18       R     LE3       T  ...     4       5        0  11  12  10\n",
              "394     MS   M   19       U     LE3       T  ...     3       5        5   8   9   9\n",
              "\n",
              "[395 rows x 33 columns]>"
            ]
          },
          "metadata": {
            "tags": []
          },
          "execution_count": 15
        }
      ]
    },
    {
      "cell_type": "markdown",
      "metadata": {
        "id": "phuVea-c-9-h"
      },
      "source": [
        "We are just going to test G1 and G3 "
      ]
    },
    {
      "cell_type": "code",
      "metadata": {
        "colab": {
          "base_uri": "https://localhost:8080/",
          "height": 206
        },
        "id": "7tLbNaIb-9gw",
        "outputId": "f220a018-44d4-4eb2-a68b-d9019cea1e8a"
      },
      "source": [
        "unimathdata  =  mathData[['G1' , 'G3']]\n",
        "unimathdata.head(5)"
      ],
      "execution_count": 18,
      "outputs": [
        {
          "output_type": "execute_result",
          "data": {
            "text/html": [
              "<div>\n",
              "<style scoped>\n",
              "    .dataframe tbody tr th:only-of-type {\n",
              "        vertical-align: middle;\n",
              "    }\n",
              "\n",
              "    .dataframe tbody tr th {\n",
              "        vertical-align: top;\n",
              "    }\n",
              "\n",
              "    .dataframe thead th {\n",
              "        text-align: right;\n",
              "    }\n",
              "</style>\n",
              "<table border=\"1\" class=\"dataframe\">\n",
              "  <thead>\n",
              "    <tr style=\"text-align: right;\">\n",
              "      <th></th>\n",
              "      <th>G1</th>\n",
              "      <th>G3</th>\n",
              "    </tr>\n",
              "  </thead>\n",
              "  <tbody>\n",
              "    <tr>\n",
              "      <th>0</th>\n",
              "      <td>5</td>\n",
              "      <td>6</td>\n",
              "    </tr>\n",
              "    <tr>\n",
              "      <th>1</th>\n",
              "      <td>5</td>\n",
              "      <td>6</td>\n",
              "    </tr>\n",
              "    <tr>\n",
              "      <th>2</th>\n",
              "      <td>7</td>\n",
              "      <td>10</td>\n",
              "    </tr>\n",
              "    <tr>\n",
              "      <th>3</th>\n",
              "      <td>15</td>\n",
              "      <td>15</td>\n",
              "    </tr>\n",
              "    <tr>\n",
              "      <th>4</th>\n",
              "      <td>6</td>\n",
              "      <td>10</td>\n",
              "    </tr>\n",
              "  </tbody>\n",
              "</table>\n",
              "</div>"
            ],
            "text/plain": [
              "   G1  G3\n",
              "0   5   6\n",
              "1   5   6\n",
              "2   7  10\n",
              "3  15  15\n",
              "4   6  10"
            ]
          },
          "metadata": {
            "tags": []
          },
          "execution_count": 18
        }
      ]
    },
    {
      "cell_type": "code",
      "metadata": {
        "id": "PGj5rvMI9uqO"
      },
      "source": [
        "unimathdata.to_csv('unimathdata.csv')"
      ],
      "execution_count": 19,
      "outputs": []
    },
    {
      "cell_type": "code",
      "metadata": {
        "colab": {
          "base_uri": "https://localhost:8080/"
        },
        "id": "wc2XvNe0_5ZP",
        "outputId": "12508f4a-6864-4a08-a8e9-8b977cebe2a7"
      },
      "source": [
        "ls"
      ],
      "execution_count": 20,
      "outputs": [
        {
          "output_type": "stream",
          "text": [
            "cleanedMathData.csv  student-merge.R  student.txt\n",
            "student-mat.csv      student-por.csv  unimathdata.csv\n"
          ],
          "name": "stdout"
        }
      ]
    },
    {
      "cell_type": "markdown",
      "metadata": {
        "id": "ojxh1Z6Q__JM"
      },
      "source": [
        "<h1>Data Visuallization </h1>"
      ]
    },
    {
      "cell_type": "code",
      "metadata": {
        "colab": {
          "base_uri": "https://localhost:8080/",
          "height": 157
        },
        "id": "ktUEJST1Az8i",
        "outputId": "4aebdbb6-6326-4a37-dbdd-d7d2729470a6"
      },
      "source": [
        "import seaborn as sns\n",
        "sns.palplot(sns.color_palette('PuOr')) #Purple to Orange colors\n",
        "pal = sns.color_palette('PuOr', 6) #print 6 color shades from Purple to Orange\n",
        "pal.as_hex() #set hex code values for colors\n",
        "\n",
        "import matplotlib.pyplot as plt\n",
        "plt.style.use(['seaborn'])\n",
        "sns_colors = ['#c6690c', '#664697'] #orange Purple hex codes\n",
        "sns.set_palette(sns_colors) #set the palette as sns_colors \n",
        "sns.palplot(sns.color_palette(sns_colors)) #plot the color codes"
      ],
      "execution_count": 26,
      "outputs": [
        {
          "output_type": "display_data",
          "data": {
            "image/png": "[encoded data removed]",
            "text/plain": [
              "<Figure size 432x72 with 1 Axes>"
            ]
          },
          "metadata": {
            "tags": [],
            "needs_background": "light"
          }
        },
        {
          "output_type": "display_data",
          "data": {
            "image/png": "[encoded data removed]",
            "text/plain": [
              "<Figure size 144x72 with 1 Axes>"
            ]
          },
          "metadata": {
            "tags": []
          }
        }
      ]
    },
    {
      "cell_type": "code",
      "metadata": {
        "colab": {
          "base_uri": "https://localhost:8080/"
        },
        "id": "QpHRIxGE_6Wz",
        "outputId": "6c41d8f2-6e41-4fa9-8a9a-d91917a855f4"
      },
      "source": [
        "unimathdata.columns"
      ],
      "execution_count": 21,
      "outputs": [
        {
          "output_type": "execute_result",
          "data": {
            "text/plain": [
              "Index(['G1', 'G3'], dtype='object')"
            ]
          },
          "metadata": {
            "tags": []
          },
          "execution_count": 21
        }
      ]
    },
    {
      "cell_type": "code",
      "metadata": {
        "colab": {
          "base_uri": "https://localhost:8080/",
          "height": 392
        },
        "id": "1pK-KA33AKEN",
        "outputId": "9e077c87-8932-4f3b-ceef-4ca52c834f91"
      },
      "source": [
        "sns.pairplot(\n",
        "    unimathdata , \n",
        "    x_vars = ['G1' , 'G3'],\n",
        "    y_vars = ['G1' , 'G3'],\n",
        "    diag_kind  = 'kde'\n",
        ")"
      ],
      "execution_count": 28,
      "outputs": [
        {
          "output_type": "execute_result",
          "data": {
            "text/plain": [
              "<seaborn.axisgrid.PairGrid at 0x7f078fc596d0>"
            ]
          },
          "metadata": {
            "tags": []
          },
          "execution_count": 28
        },
        {
          "output_type": "display_data",
          "data": {
            "image/png": "[encoded data removed]",
            "text/plain": [
              "<Figure size 360x360 with 6 Axes>"
            ]
          },
          "metadata": {
            "tags": []
          }
        }
      ]
    },
    {
      "cell_type": "markdown",
      "metadata": {
        "id": "CitVHQjGBRSG"
      },
      "source": [
        "<h1>Data Splitting </h1>"
      ]
    },
    {
      "cell_type": "code",
      "metadata": {
        "colab": {
          "base_uri": "https://localhost:8080/"
        },
        "id": "ei_M6xktAoiX",
        "outputId": "6b03b9a4-8a53-425a-e9fe-3a24a1b21a7b"
      },
      "source": [
        "trainDataset  =  unimathdata.sample(frac = 0.8 , random_state=0)\n",
        "testDataset  =  unimathdata.drop(trainDataset.index)\n",
        "\n",
        "print(trainDataset.head(5))\n",
        "print(testDataset.head(5))"
      ],
      "execution_count": 30,
      "outputs": [
        {
          "output_type": "stream",
          "text": [
            "     G1  G3\n",
            "329  14  14\n",
            "318  11  10\n",
            "317   9   9\n",
            "65   16  15\n",
            "59   15  16\n",
            "    G1  G3\n",
            "9   14  15\n",
            "25   6   8\n",
            "28  11  11\n",
            "31  17  17\n",
            "32  17  16\n"
          ],
          "name": "stdout"
        }
      ]
    },
    {
      "cell_type": "code",
      "metadata": {
        "colab": {
          "base_uri": "https://localhost:8080/"
        },
        "id": "6NEdQDwkBzmy",
        "outputId": "4ad8fdbd-16ac-4561-d7f3-28ee2c677cba"
      },
      "source": [
        "print(trainDataset.shape)\n",
        "print(testDataset.shape)"
      ],
      "execution_count": 31,
      "outputs": [
        {
          "output_type": "stream",
          "text": [
            "(316, 2)\n",
            "(79, 2)\n"
          ],
          "name": "stdout"
        }
      ]
    },
    {
      "cell_type": "code",
      "metadata": {
        "colab": {
          "base_uri": "https://localhost:8080/"
        },
        "id": "d_RQ-1BnCCkt",
        "outputId": "0ece8032-52bc-4167-efd7-dda2f67e0271"
      },
      "source": [
        "trainFeatures  =  trainDataset.copy()\n",
        "testFeatures  =  testDataset.copy()\n",
        "\n",
        "print(trainFeatures.head(5))\n",
        "print(testFeatures.head(5))"
      ],
      "execution_count": 37,
      "outputs": [
        {
          "output_type": "stream",
          "text": [
            "     G1  G3\n",
            "329  14  14\n",
            "318  11  10\n",
            "317   9   9\n",
            "65   16  15\n",
            "59   15  16\n",
            "    G1  G3\n",
            "9   14  15\n",
            "25   6   8\n",
            "28  11  11\n",
            "31  17  17\n",
            "32  17  16\n"
          ],
          "name": "stdout"
        }
      ]
    },
    {
      "cell_type": "code",
      "metadata": {
        "colab": {
          "base_uri": "https://localhost:8080/"
        },
        "id": "8ISOT6bNCc8n",
        "outputId": "9494bcd2-a805-476a-dd66-9f21bbd33bb0"
      },
      "source": [
        "trainLabels  =  trainFeatures.pop('G3')\n",
        "testLabels  =  testFeatures.pop('G3')\n",
        "\n",
        "print(trainLabels.head(5))\n",
        "print(testLabels.head(5))\n",
        "\n",
        "# trainFeatures['G3']"
      ],
      "execution_count": 39,
      "outputs": [
        {
          "output_type": "stream",
          "text": [
            "329    14\n",
            "318    10\n",
            "317     9\n",
            "65     15\n",
            "59     16\n",
            "Name: G3, dtype: int64\n",
            "9     15\n",
            "25     8\n",
            "28    11\n",
            "31    17\n",
            "32    16\n",
            "Name: G3, dtype: int64\n"
          ],
          "name": "stdout"
        }
      ]
    },
    {
      "cell_type": "code",
      "metadata": {
        "colab": {
          "base_uri": "https://localhost:8080/"
        },
        "id": "Vj6PTqIHC_aA",
        "outputId": "1c724ac7-07ba-417c-9134-4cc79fb1de97"
      },
      "source": [
        "print(trainFeatures.head(5))\n",
        "print(testFeatures.head(5))"
      ],
      "execution_count": 42,
      "outputs": [
        {
          "output_type": "stream",
          "text": [
            "     G1\n",
            "329  14\n",
            "318  11\n",
            "317   9\n",
            "65   16\n",
            "59   15\n",
            "    G1\n",
            "9   14\n",
            "25   6\n",
            "28  11\n",
            "31  17\n",
            "32  17\n"
          ],
          "name": "stdout"
        }
      ]
    },
    {
      "cell_type": "markdown",
      "metadata": {
        "id": "ZquBRozkE3I6"
      },
      "source": [
        "univariate  - >  number of features  =  1 <br>\n",
        "multivariate  - >  number of features  =  more than 1 "
      ]
    },
    {
      "cell_type": "code",
      "metadata": {
        "id": "CaY5HXIgEEUX"
      },
      "source": [
        "model  =  tf.keras.Sequential([tf.keras.layers.Dense(1)])"
      ],
      "execution_count": 43,
      "outputs": []
    },
    {
      "cell_type": "code",
      "metadata": {
        "id": "UjFuj5ckFhQ6"
      },
      "source": [
        "model.compile(\n",
        "    loss='mean_absolute_error', #minimizing the MAE loss\n",
        "    optimizer =tf.keras.optimizers.Adam(0.001), #learning rate specified as 0.001\n",
        "    metrics = ['mae', 'mse']\n",
        ")"
      ],
      "execution_count": 44,
      "outputs": []
    },
    {
      "cell_type": "code",
      "metadata": {
        "colab": {
          "base_uri": "https://localhost:8080/"
        },
        "id": "w_foDjPIGaqf",
        "outputId": "2a7b4d92-7f8b-43cb-f634-a42f76af016b"
      },
      "source": [
        "numEpochs = 300\n",
        "history = model.fit(x = trainFeatures, y = trainLabels, validation_data = (testFeatures, testLabels), epochs = numEpochs)"
      ],
      "execution_count": 45,
      "outputs": [
        {
          "output_type": "stream",
          "text": [
            "Epoch 1/300\n",
            "10/10 [==============================] - 1s 20ms/step - loss: 21.4281 - mae: 21.4281 - mse: 515.7576 - val_loss: 22.6387 - val_mae: 22.6387 - val_mse: 573.4844\n",
            "Epoch 2/300\n",
            "10/10 [==============================] - 0s 3ms/step - loss: 21.3106 - mae: 21.3106 - mse: 510.2914 - val_loss: 22.5140 - val_mae: 22.5140 - val_mse: 567.3455\n",
            "Epoch 3/300\n",
            "10/10 [==============================] - 0s 3ms/step - loss: 21.1932 - mae: 21.1932 - mse: 504.8824 - val_loss: 22.3892 - val_mae: 22.3892 - val_mse: 561.2374\n",
            "Epoch 4/300\n",
            "10/10 [==============================] - 0s 3ms/step - loss: 21.0749 - mae: 21.0749 - mse: 499.3830 - val_loss: 22.2651 - val_mae: 22.2651 - val_mse: 555.1909\n",
            "Epoch 5/300\n",
            "10/10 [==============================] - 0s 5ms/step - loss: 20.9578 - mae: 20.9578 - mse: 494.0063 - val_loss: 22.1404 - val_mae: 22.1404 - val_mse: 549.1520\n",
            "Epoch 6/300\n",
            "10/10 [==============================] - 0s 4ms/step - loss: 20.8402 - mae: 20.8402 - mse: 488.6904 - val_loss: 22.0158 - val_mae: 22.0158 - val_mse: 543.1535\n",
            "Epoch 7/300\n",
            "10/10 [==============================] - 0s 3ms/step - loss: 20.7230 - mae: 20.7230 - mse: 483.3740 - val_loss: 21.8910 - val_mae: 21.8910 - val_mse: 537.1776\n",
            "Epoch 8/300\n",
            "10/10 [==============================] - 0s 4ms/step - loss: 20.6046 - mae: 20.6046 - mse: 477.9785 - val_loss: 21.7671 - val_mae: 21.7671 - val_mse: 531.2767\n",
            "Epoch 9/300\n",
            "10/10 [==============================] - 0s 3ms/step - loss: 20.4879 - mae: 20.4879 - mse: 472.7739 - val_loss: 21.6424 - val_mae: 21.6424 - val_mse: 525.3679\n",
            "Epoch 10/300\n",
            "10/10 [==============================] - 0s 4ms/step - loss: 20.3698 - mae: 20.3698 - mse: 467.4833 - val_loss: 21.5181 - val_mae: 21.5181 - val_mse: 519.5170\n",
            "Epoch 11/300\n",
            "10/10 [==============================] - 0s 3ms/step - loss: 20.2525 - mae: 20.2525 - mse: 462.2911 - val_loss: 21.3936 - val_mae: 21.3936 - val_mse: 513.6860\n",
            "Epoch 12/300\n",
            "10/10 [==============================] - 0s 4ms/step - loss: 20.1350 - mae: 20.1350 - mse: 457.1213 - val_loss: 21.2689 - val_mae: 21.2689 - val_mse: 507.8832\n",
            "Epoch 13/300\n",
            "10/10 [==============================] - 0s 4ms/step - loss: 20.0179 - mae: 20.0179 - mse: 452.0321 - val_loss: 21.1438 - val_mae: 21.1438 - val_mse: 502.0934\n",
            "Epoch 14/300\n",
            "10/10 [==============================] - 0s 4ms/step - loss: 19.8994 - mae: 19.8994 - mse: 446.7982 - val_loss: 21.0198 - val_mae: 21.0198 - val_mse: 496.3851\n",
            "Epoch 15/300\n",
            "10/10 [==============================] - 0s 3ms/step - loss: 19.7820 - mae: 19.7820 - mse: 441.7175 - val_loss: 20.8956 - val_mae: 20.8956 - val_mse: 490.7019\n",
            "Epoch 16/300\n",
            "10/10 [==============================] - 0s 6ms/step - loss: 19.6645 - mae: 19.6645 - mse: 436.6667 - val_loss: 20.7712 - val_mae: 20.7712 - val_mse: 485.0431\n",
            "Epoch 17/300\n",
            "10/10 [==============================] - 0s 3ms/step - loss: 19.5473 - mae: 19.5473 - mse: 431.6729 - val_loss: 20.6464 - val_mae: 20.6464 - val_mse: 479.4004\n",
            "Epoch 18/300\n",
            "10/10 [==============================] - 0s 3ms/step - loss: 19.4296 - mae: 19.4296 - mse: 426.6515 - val_loss: 20.5217 - val_mae: 20.5217 - val_mse: 473.7995\n",
            "Epoch 19/300\n",
            "10/10 [==============================] - 0s 3ms/step - loss: 19.3126 - mae: 19.3126 - mse: 421.7218 - val_loss: 20.3966 - val_mae: 20.3966 - val_mse: 468.2093\n",
            "Epoch 20/300\n",
            "10/10 [==============================] - 0s 4ms/step - loss: 19.1939 - mae: 19.1939 - mse: 416.7044 - val_loss: 20.2727 - val_mae: 20.2727 - val_mse: 462.7049\n",
            "Epoch 21/300\n",
            "10/10 [==============================] - 0s 3ms/step - loss: 19.0770 - mae: 19.0770 - mse: 411.8417 - val_loss: 20.1480 - val_mae: 20.1480 - val_mse: 457.2021\n",
            "Epoch 22/300\n",
            "10/10 [==============================] - 0s 4ms/step - loss: 18.9596 - mae: 18.9596 - mse: 406.9897 - val_loss: 20.0232 - val_mae: 20.0232 - val_mse: 451.7270\n",
            "Epoch 23/300\n",
            "10/10 [==============================] - 0s 4ms/step - loss: 18.8418 - mae: 18.8418 - mse: 402.1048 - val_loss: 19.8987 - val_mae: 19.8987 - val_mse: 446.2978\n",
            "Epoch 24/300\n",
            "10/10 [==============================] - 0s 4ms/step - loss: 18.7243 - mae: 18.7243 - mse: 397.2834 - val_loss: 19.7741 - val_mae: 19.7741 - val_mse: 440.8982\n",
            "Epoch 25/300\n",
            "10/10 [==============================] - 0s 4ms/step - loss: 18.6065 - mae: 18.6065 - mse: 392.4469 - val_loss: 19.6498 - val_mae: 19.6498 - val_mse: 435.5421\n",
            "Epoch 26/300\n",
            "10/10 [==============================] - 0s 4ms/step - loss: 18.4890 - mae: 18.4890 - mse: 387.7119 - val_loss: 19.5254 - val_mae: 19.5254 - val_mse: 430.2168\n",
            "Epoch 27/300\n",
            "10/10 [==============================] - 0s 4ms/step - loss: 18.3716 - mae: 18.3716 - mse: 382.9600 - val_loss: 19.4008 - val_mae: 19.4008 - val_mse: 424.9174\n",
            "Epoch 28/300\n",
            "10/10 [==============================] - 0s 4ms/step - loss: 18.2540 - mae: 18.2540 - mse: 378.2754 - val_loss: 19.2762 - val_mae: 19.2762 - val_mse: 419.6504\n",
            "Epoch 29/300\n",
            "10/10 [==============================] - 0s 3ms/step - loss: 18.1374 - mae: 18.1374 - mse: 373.6956 - val_loss: 19.1507 - val_mae: 19.1507 - val_mse: 414.3812\n",
            "Epoch 30/300\n",
            "10/10 [==============================] - 0s 4ms/step - loss: 18.0184 - mae: 18.0184 - mse: 368.9322 - val_loss: 19.0268 - val_mae: 19.0268 - val_mse: 409.2093\n",
            "Epoch 31/300\n",
            "10/10 [==============================] - 0s 3ms/step - loss: 17.9013 - mae: 17.9013 - mse: 364.3426 - val_loss: 18.9024 - val_mae: 18.9024 - val_mse: 404.0509\n",
            "Epoch 32/300\n",
            "10/10 [==============================] - 0s 3ms/step - loss: 17.7833 - mae: 17.7833 - mse: 359.7151 - val_loss: 18.7784 - val_mae: 18.7784 - val_mse: 398.9458\n",
            "Epoch 33/300\n",
            "10/10 [==============================] - 0s 4ms/step - loss: 17.6659 - mae: 17.6659 - mse: 355.1410 - val_loss: 18.6542 - val_mae: 18.6542 - val_mse: 393.8624\n",
            "Epoch 34/300\n",
            "10/10 [==============================] - 0s 4ms/step - loss: 17.5494 - mae: 17.5494 - mse: 350.7142 - val_loss: 18.5290 - val_mae: 18.5290 - val_mse: 388.7675\n",
            "Epoch 35/300\n",
            "10/10 [==============================] - 0s 3ms/step - loss: 17.4312 - mae: 17.4312 - mse: 346.1966 - val_loss: 18.4044 - val_mae: 18.4044 - val_mse: 383.7361\n",
            "Epoch 36/300\n",
            "10/10 [==============================] - 0s 4ms/step - loss: 17.3137 - mae: 17.3137 - mse: 341.7112 - val_loss: 18.2798 - val_mae: 18.2798 - val_mse: 378.7374\n",
            "Epoch 37/300\n",
            "10/10 [==============================] - 0s 4ms/step - loss: 17.1960 - mae: 17.1960 - mse: 337.2669 - val_loss: 18.1553 - val_mae: 18.1553 - val_mse: 373.7762\n",
            "Epoch 38/300\n",
            "10/10 [==============================] - 0s 4ms/step - loss: 17.0790 - mae: 17.0790 - mse: 332.9080 - val_loss: 18.0304 - val_mae: 18.0304 - val_mse: 368.8317\n",
            "Epoch 39/300\n",
            "10/10 [==============================] - 0s 3ms/step - loss: 16.9611 - mae: 16.9611 - mse: 328.5111 - val_loss: 17.9060 - val_mae: 17.9060 - val_mse: 363.9388\n",
            "Epoch 40/300\n",
            "10/10 [==============================] - 0s 3ms/step - loss: 16.8435 - mae: 16.8435 - mse: 324.1535 - val_loss: 17.7816 - val_mae: 17.7816 - val_mse: 359.0807\n",
            "Epoch 41/300\n",
            "10/10 [==============================] - 0s 4ms/step - loss: 16.7263 - mae: 16.7263 - mse: 319.8619 - val_loss: 17.6569 - val_mae: 17.6569 - val_mse: 354.2444\n",
            "Epoch 42/300\n",
            "10/10 [==============================] - 0s 3ms/step - loss: 16.6089 - mae: 16.6089 - mse: 315.6053 - val_loss: 17.5322 - val_mae: 17.5322 - val_mse: 349.4417\n",
            "Epoch 43/300\n",
            "10/10 [==============================] - 0s 4ms/step - loss: 16.4903 - mae: 16.4903 - mse: 311.2381 - val_loss: 17.4085 - val_mae: 17.4085 - val_mse: 344.7102\n",
            "Epoch 44/300\n",
            "10/10 [==============================] - 0s 4ms/step - loss: 16.3740 - mae: 16.3740 - mse: 307.0921 - val_loss: 17.2835 - val_mae: 17.2835 - val_mse: 339.9610\n",
            "Epoch 45/300\n",
            "10/10 [==============================] - 0s 4ms/step - loss: 16.2563 - mae: 16.2563 - mse: 302.9142 - val_loss: 17.1587 - val_mae: 17.1587 - val_mse: 335.2541\n",
            "Epoch 46/300\n",
            "10/10 [==============================] - 0s 4ms/step - loss: 16.1382 - mae: 16.1382 - mse: 298.6872 - val_loss: 17.0345 - val_mae: 17.0345 - val_mse: 330.6035\n",
            "Epoch 47/300\n",
            "10/10 [==============================] - 0s 3ms/step - loss: 16.0205 - mae: 16.0205 - mse: 294.5266 - val_loss: 16.9104 - val_mae: 16.9104 - val_mse: 325.9921\n",
            "Epoch 48/300\n",
            "10/10 [==============================] - 0s 3ms/step - loss: 15.9044 - mae: 15.9044 - mse: 290.5473 - val_loss: 16.7850 - val_mae: 16.7850 - val_mse: 321.3633\n",
            "Epoch 49/300\n",
            "10/10 [==============================] - 0s 4ms/step - loss: 15.7861 - mae: 15.7861 - mse: 286.4030 - val_loss: 16.6606 - val_mae: 16.6606 - val_mse: 316.8040\n",
            "Epoch 50/300\n",
            "10/10 [==============================] - 0s 4ms/step - loss: 15.6678 - mae: 15.6678 - mse: 282.2882 - val_loss: 16.5369 - val_mae: 16.5369 - val_mse: 312.3025\n",
            "Epoch 51/300\n",
            "10/10 [==============================] - 0s 3ms/step - loss: 15.5505 - mae: 15.5505 - mse: 278.2709 - val_loss: 16.4128 - val_mae: 16.4128 - val_mse: 307.8227\n",
            "Epoch 52/300\n",
            "10/10 [==============================] - 0s 3ms/step - loss: 15.4338 - mae: 15.4338 - mse: 274.3150 - val_loss: 16.2880 - val_mae: 16.2880 - val_mse: 303.3483\n",
            "Epoch 53/300\n",
            "10/10 [==============================] - 0s 4ms/step - loss: 15.3160 - mae: 15.3160 - mse: 270.3523 - val_loss: 16.1634 - val_mae: 16.1634 - val_mse: 298.9162\n",
            "Epoch 54/300\n",
            "10/10 [==============================] - 0s 4ms/step - loss: 15.1981 - mae: 15.1981 - mse: 266.3954 - val_loss: 16.0392 - val_mae: 16.0392 - val_mse: 294.5333\n",
            "Epoch 55/300\n",
            "10/10 [==============================] - 0s 4ms/step - loss: 15.0804 - mae: 15.0804 - mse: 262.4772 - val_loss: 15.9150 - val_mae: 15.9150 - val_mse: 290.1818\n",
            "Epoch 56/300\n",
            "10/10 [==============================] - 0s 3ms/step - loss: 14.9635 - mae: 14.9635 - mse: 258.6583 - val_loss: 15.7900 - val_mae: 15.7900 - val_mse: 285.8354\n",
            "Epoch 57/300\n",
            "10/10 [==============================] - 0s 4ms/step - loss: 14.8464 - mae: 14.8464 - mse: 254.8730 - val_loss: 15.6646 - val_mae: 15.6646 - val_mse: 281.5078\n",
            "Epoch 58/300\n",
            "10/10 [==============================] - 0s 4ms/step - loss: 14.7275 - mae: 14.7275 - mse: 250.9698 - val_loss: 15.5406 - val_mae: 15.5406 - val_mse: 277.2632\n",
            "Epoch 59/300\n",
            "10/10 [==============================] - 0s 3ms/step - loss: 14.6107 - mae: 14.6107 - mse: 247.2140 - val_loss: 15.4159 - val_mae: 15.4159 - val_mse: 273.0266\n",
            "Epoch 60/300\n",
            "10/10 [==============================] - 0s 4ms/step - loss: 14.4931 - mae: 14.4931 - mse: 243.4863 - val_loss: 15.2911 - val_mae: 15.2911 - val_mse: 268.8232\n",
            "Epoch 61/300\n",
            "10/10 [==============================] - 0s 3ms/step - loss: 14.3749 - mae: 14.3749 - mse: 239.7298 - val_loss: 15.1671 - val_mae: 15.1671 - val_mse: 264.6779\n",
            "Epoch 62/300\n",
            "10/10 [==============================] - 0s 4ms/step - loss: 14.2574 - mae: 14.2574 - mse: 236.0078 - val_loss: 15.0431 - val_mae: 15.0431 - val_mse: 260.5638\n",
            "Epoch 63/300\n",
            "10/10 [==============================] - 0s 3ms/step - loss: 14.1409 - mae: 14.1409 - mse: 232.4462 - val_loss: 14.9179 - val_mae: 14.9179 - val_mse: 256.4464\n",
            "Epoch 64/300\n",
            "10/10 [==============================] - 0s 4ms/step - loss: 14.0229 - mae: 14.0229 - mse: 228.7849 - val_loss: 14.7932 - val_mae: 14.7932 - val_mse: 252.3793\n",
            "Epoch 65/300\n",
            "10/10 [==============================] - 0s 5ms/step - loss: 13.9057 - mae: 13.9057 - mse: 225.1990 - val_loss: 14.6683 - val_mae: 14.6683 - val_mse: 248.3361\n",
            "Epoch 66/300\n",
            "10/10 [==============================] - 0s 5ms/step - loss: 13.7873 - mae: 13.7873 - mse: 221.5640 - val_loss: 14.5442 - val_mae: 14.5442 - val_mse: 244.3544\n",
            "Epoch 67/300\n",
            "10/10 [==============================] - 0s 4ms/step - loss: 13.6697 - mae: 13.6697 - mse: 218.0253 - val_loss: 14.4202 - val_mae: 14.4202 - val_mse: 240.4071\n",
            "Epoch 68/300\n",
            "10/10 [==============================] - 0s 3ms/step - loss: 13.5526 - mae: 13.5526 - mse: 214.5113 - val_loss: 14.2956 - val_mae: 14.2956 - val_mse: 236.4760\n",
            "Epoch 69/300\n",
            "10/10 [==============================] - 0s 3ms/step - loss: 13.4351 - mae: 13.4351 - mse: 211.0431 - val_loss: 14.1708 - val_mae: 14.1708 - val_mse: 232.5727\n",
            "Epoch 70/300\n",
            "10/10 [==============================] - 0s 4ms/step - loss: 13.3180 - mae: 13.3180 - mse: 207.6449 - val_loss: 14.0456 - val_mae: 14.0456 - val_mse: 228.6867\n",
            "Epoch 71/300\n",
            "10/10 [==============================] - 0s 4ms/step - loss: 13.1995 - mae: 13.1995 - mse: 204.1518 - val_loss: 13.9213 - val_mae: 13.9213 - val_mse: 224.8655\n",
            "Epoch 72/300\n",
            "10/10 [==============================] - 0s 4ms/step - loss: 13.0819 - mae: 13.0819 - mse: 200.7399 - val_loss: 13.7972 - val_mae: 13.7972 - val_mse: 221.0833\n",
            "Epoch 73/300\n",
            "10/10 [==============================] - 0s 3ms/step - loss: 12.9651 - mae: 12.9651 - mse: 197.4128 - val_loss: 13.6723 - val_mae: 13.6723 - val_mse: 217.3073\n",
            "Epoch 74/300\n",
            "10/10 [==============================] - 0s 4ms/step - loss: 12.8473 - mae: 12.8473 - mse: 194.0726 - val_loss: 13.5476 - val_mae: 13.5476 - val_mse: 213.5740\n",
            "Epoch 75/300\n",
            "10/10 [==============================] - 0s 4ms/step - loss: 12.7297 - mae: 12.7297 - mse: 190.7818 - val_loss: 13.4229 - val_mae: 13.4229 - val_mse: 209.8740\n",
            "Epoch 76/300\n",
            "10/10 [==============================] - 0s 3ms/step - loss: 12.6121 - mae: 12.6121 - mse: 187.5042 - val_loss: 13.2985 - val_mae: 13.2985 - val_mse: 206.2147\n",
            "Epoch 77/300\n",
            "10/10 [==============================] - 0s 3ms/step - loss: 12.4945 - mae: 12.4945 - mse: 184.2662 - val_loss: 13.1742 - val_mae: 13.1742 - val_mse: 202.5904\n",
            "Epoch 78/300\n",
            "10/10 [==============================] - 0s 4ms/step - loss: 12.3775 - mae: 12.3775 - mse: 181.0435 - val_loss: 13.0493 - val_mae: 13.0493 - val_mse: 198.9864\n",
            "Epoch 79/300\n",
            "10/10 [==============================] - 0s 4ms/step - loss: 12.2591 - mae: 12.2591 - mse: 177.8345 - val_loss: 12.9255 - val_mae: 12.9255 - val_mse: 195.4445\n",
            "Epoch 80/300\n",
            "10/10 [==============================] - 0s 3ms/step - loss: 12.1427 - mae: 12.1427 - mse: 174.7066 - val_loss: 12.8005 - val_mae: 12.8005 - val_mse: 191.9000\n",
            "Epoch 81/300\n",
            "10/10 [==============================] - 0s 4ms/step - loss: 12.0242 - mae: 12.0242 - mse: 171.5299 - val_loss: 12.6766 - val_mae: 12.6766 - val_mse: 188.4218\n",
            "Epoch 82/300\n",
            "10/10 [==============================] - 0s 3ms/step - loss: 11.9074 - mae: 11.9074 - mse: 168.4925 - val_loss: 12.5518 - val_mae: 12.5518 - val_mse: 184.9535\n",
            "Epoch 83/300\n",
            "10/10 [==============================] - 0s 3ms/step - loss: 11.7892 - mae: 11.7892 - mse: 165.3646 - val_loss: 12.4277 - val_mae: 12.4277 - val_mse: 181.5352\n",
            "Epoch 84/300\n",
            "10/10 [==============================] - 0s 3ms/step - loss: 11.6722 - mae: 11.6722 - mse: 162.3594 - val_loss: 12.3034 - val_mae: 12.3034 - val_mse: 178.1440\n",
            "Epoch 85/300\n",
            "10/10 [==============================] - 0s 4ms/step - loss: 11.5550 - mae: 11.5550 - mse: 159.3470 - val_loss: 12.1793 - val_mae: 12.1793 - val_mse: 174.7941\n",
            "Epoch 86/300\n",
            "10/10 [==============================] - 0s 4ms/step - loss: 11.4384 - mae: 11.4384 - mse: 156.3924 - val_loss: 12.0549 - val_mae: 12.0549 - val_mse: 171.4680\n",
            "Epoch 87/300\n",
            "10/10 [==============================] - 0s 4ms/step - loss: 11.3215 - mae: 11.3215 - mse: 153.4621 - val_loss: 11.9304 - val_mae: 11.9304 - val_mse: 168.1727\n",
            "Epoch 88/300\n",
            "10/10 [==============================] - 0s 4ms/step - loss: 11.2054 - mae: 11.2054 - mse: 150.5582 - val_loss: 11.8061 - val_mae: 11.8061 - val_mse: 164.9160\n",
            "Epoch 89/300\n",
            "10/10 [==============================] - 0s 4ms/step - loss: 11.0889 - mae: 11.0889 - mse: 147.6536 - val_loss: 11.6829 - val_mae: 11.6829 - val_mse: 161.7206\n",
            "Epoch 90/300\n",
            "10/10 [==============================] - 0s 4ms/step - loss: 10.9758 - mae: 10.9758 - mse: 144.8465 - val_loss: 11.5617 - val_mae: 11.5617 - val_mse: 158.5677\n",
            "Epoch 91/300\n",
            "10/10 [==============================] - 0s 4ms/step - loss: 10.8643 - mae: 10.8643 - mse: 142.0453 - val_loss: 11.4437 - val_mae: 11.4437 - val_mse: 155.5257\n",
            "Epoch 92/300\n",
            "10/10 [==============================] - 0s 4ms/step - loss: 10.7586 - mae: 10.7586 - mse: 139.4229 - val_loss: 11.3338 - val_mae: 11.3338 - val_mse: 152.5215\n",
            "Epoch 93/300\n",
            "10/10 [==============================] - 0s 4ms/step - loss: 10.6540 - mae: 10.6540 - mse: 136.7333 - val_loss: 11.2290 - val_mae: 11.2290 - val_mse: 149.6318\n",
            "Epoch 94/300\n",
            "10/10 [==============================] - 0s 4ms/step - loss: 10.5545 - mae: 10.5545 - mse: 134.2247 - val_loss: 11.1258 - val_mae: 11.1258 - val_mse: 146.7556\n",
            "Epoch 95/300\n",
            "10/10 [==============================] - 0s 4ms/step - loss: 10.4539 - mae: 10.4539 - mse: 131.6801 - val_loss: 11.0266 - val_mae: 11.0266 - val_mse: 144.0182\n",
            "Epoch 96/300\n",
            "10/10 [==============================] - 0s 4ms/step - loss: 10.3626 - mae: 10.3626 - mse: 129.2754 - val_loss: 10.9281 - val_mae: 10.9281 - val_mse: 141.3272\n",
            "Epoch 97/300\n",
            "10/10 [==============================] - 0s 4ms/step - loss: 10.2722 - mae: 10.2722 - mse: 126.9250 - val_loss: 10.8311 - val_mae: 10.8311 - val_mse: 138.7020\n",
            "Epoch 98/300\n",
            "10/10 [==============================] - 0s 3ms/step - loss: 10.1842 - mae: 10.1842 - mse: 124.5977 - val_loss: 10.7345 - val_mae: 10.7345 - val_mse: 136.1118\n",
            "Epoch 99/300\n",
            "10/10 [==============================] - 0s 4ms/step - loss: 10.0962 - mae: 10.0962 - mse: 122.3427 - val_loss: 10.6386 - val_mae: 10.6386 - val_mse: 133.5674\n",
            "Epoch 100/300\n",
            "10/10 [==============================] - 0s 4ms/step - loss: 10.0090 - mae: 10.0090 - mse: 120.0851 - val_loss: 10.5423 - val_mae: 10.5423 - val_mse: 131.0383\n",
            "Epoch 101/300\n",
            "10/10 [==============================] - 0s 3ms/step - loss: 9.9200 - mae: 9.9200 - mse: 117.8404 - val_loss: 10.4473 - val_mae: 10.4473 - val_mse: 128.5682\n",
            "Epoch 102/300\n",
            "10/10 [==============================] - 0s 4ms/step - loss: 9.8323 - mae: 9.8323 - mse: 115.6161 - val_loss: 10.3520 - val_mae: 10.3520 - val_mse: 126.1158\n",
            "Epoch 103/300\n",
            "10/10 [==============================] - 0s 3ms/step - loss: 9.7457 - mae: 9.7457 - mse: 113.4622 - val_loss: 10.2549 - val_mae: 10.2549 - val_mse: 123.6417\n",
            "Epoch 104/300\n",
            "10/10 [==============================] - 0s 3ms/step - loss: 9.6571 - mae: 9.6571 - mse: 111.2703 - val_loss: 10.1583 - val_mae: 10.1583 - val_mse: 121.2064\n",
            "Epoch 105/300\n",
            "10/10 [==============================] - 0s 4ms/step - loss: 9.5690 - mae: 9.5690 - mse: 109.0893 - val_loss: 10.0613 - val_mae: 10.0613 - val_mse: 118.7870\n",
            "Epoch 106/300\n",
            "10/10 [==============================] - 0s 3ms/step - loss: 9.4803 - mae: 9.4803 - mse: 106.9884 - val_loss: 9.9647 - val_mae: 9.9647 - val_mse: 116.4030\n",
            "Epoch 107/300\n",
            "10/10 [==============================] - 0s 4ms/step - loss: 9.3909 - mae: 9.3909 - mse: 104.8778 - val_loss: 9.8686 - val_mae: 9.8686 - val_mse: 114.0576\n",
            "Epoch 108/300\n",
            "10/10 [==============================] - 0s 4ms/step - loss: 9.3035 - mae: 9.3035 - mse: 102.7818 - val_loss: 9.7708 - val_mae: 9.7708 - val_mse: 111.6980\n",
            "Epoch 109/300\n",
            "10/10 [==============================] - 0s 4ms/step - loss: 9.2147 - mae: 9.2147 - mse: 100.6865 - val_loss: 9.6729 - val_mae: 9.6729 - val_mse: 109.3593\n",
            "Epoch 110/300\n",
            "10/10 [==============================] - 0s 4ms/step - loss: 9.1250 - mae: 9.1250 - mse: 98.6168 - val_loss: 9.5758 - val_mae: 9.5758 - val_mse: 107.0663\n",
            "Epoch 111/300\n",
            "10/10 [==============================] - 0s 4ms/step - loss: 9.0358 - mae: 9.0358 - mse: 96.5976 - val_loss: 9.4784 - val_mae: 9.4784 - val_mse: 104.7936\n",
            "Epoch 112/300\n",
            "10/10 [==============================] - 0s 4ms/step - loss: 8.9472 - mae: 8.9472 - mse: 94.5874 - val_loss: 9.3800 - val_mae: 9.3800 - val_mse: 102.5241\n",
            "Epoch 113/300\n",
            "10/10 [==============================] - 0s 3ms/step - loss: 8.8570 - mae: 8.8570 - mse: 92.5940 - val_loss: 9.2824 - val_mae: 9.2824 - val_mse: 100.2977\n",
            "Epoch 114/300\n",
            "10/10 [==============================] - 0s 4ms/step - loss: 8.7674 - mae: 8.7674 - mse: 90.6038 - val_loss: 9.1846 - val_mae: 9.1846 - val_mse: 98.0939\n",
            "Epoch 115/300\n",
            "10/10 [==============================] - 0s 4ms/step - loss: 8.6784 - mae: 8.6784 - mse: 88.6875 - val_loss: 9.0860 - val_mae: 9.0860 - val_mse: 95.9005\n",
            "Epoch 116/300\n",
            "10/10 [==============================] - 0s 3ms/step - loss: 8.5891 - mae: 8.5891 - mse: 86.7393 - val_loss: 8.9869 - val_mae: 8.9869 - val_mse: 93.7198\n",
            "Epoch 117/300\n",
            "10/10 [==============================] - 0s 4ms/step - loss: 8.4982 - mae: 8.4982 - mse: 84.8163 - val_loss: 8.8884 - val_mae: 8.8884 - val_mse: 91.5809\n",
            "Epoch 118/300\n",
            "10/10 [==============================] - 0s 5ms/step - loss: 8.4083 - mae: 8.4083 - mse: 82.9384 - val_loss: 8.7897 - val_mae: 8.7897 - val_mse: 89.4655\n",
            "Epoch 119/300\n",
            "10/10 [==============================] - 0s 4ms/step - loss: 8.3174 - mae: 8.3174 - mse: 81.0474 - val_loss: 8.6917 - val_mae: 8.6917 - val_mse: 87.3892\n",
            "Epoch 120/300\n",
            "10/10 [==============================] - 0s 4ms/step - loss: 8.2271 - mae: 8.2271 - mse: 79.2116 - val_loss: 8.5935 - val_mae: 8.5935 - val_mse: 85.3358\n",
            "Epoch 121/300\n",
            "10/10 [==============================] - 0s 6ms/step - loss: 8.1382 - mae: 8.1382 - mse: 77.4221 - val_loss: 8.4935 - val_mae: 8.4935 - val_mse: 83.2722\n",
            "Epoch 122/300\n",
            "10/10 [==============================] - 0s 3ms/step - loss: 8.0450 - mae: 8.0450 - mse: 75.5664 - val_loss: 8.3962 - val_mae: 8.3962 - val_mse: 81.2919\n",
            "Epoch 123/300\n",
            "10/10 [==============================] - 0s 3ms/step - loss: 7.9570 - mae: 7.9570 - mse: 73.7975 - val_loss: 8.2959 - val_mae: 8.2959 - val_mse: 79.2762\n",
            "Epoch 124/300\n",
            "10/10 [==============================] - 0s 4ms/step - loss: 7.8652 - mae: 7.8652 - mse: 72.0320 - val_loss: 8.1965 - val_mae: 8.1965 - val_mse: 77.3076\n",
            "Epoch 125/300\n",
            "10/10 [==============================] - 0s 4ms/step - loss: 7.7754 - mae: 7.7754 - mse: 70.3250 - val_loss: 8.0959 - val_mae: 8.0959 - val_mse: 75.3418\n",
            "Epoch 126/300\n",
            "10/10 [==============================] - 0s 4ms/step - loss: 7.6833 - mae: 7.6833 - mse: 68.5825 - val_loss: 7.9966 - val_mae: 7.9966 - val_mse: 73.4291\n",
            "Epoch 127/300\n",
            "10/10 [==============================] - 0s 4ms/step - loss: 7.5922 - mae: 7.5922 - mse: 66.8859 - val_loss: 7.8974 - val_mae: 7.8974 - val_mse: 71.5437\n",
            "Epoch 128/300\n",
            "10/10 [==============================] - 0s 4ms/step - loss: 7.5017 - mae: 7.5017 - mse: 65.2279 - val_loss: 7.7971 - val_mae: 7.7971 - val_mse: 69.6671\n",
            "Epoch 129/300\n",
            "10/10 [==============================] - 0s 3ms/step - loss: 7.4093 - mae: 7.4093 - mse: 63.5636 - val_loss: 7.6979 - val_mae: 7.6979 - val_mse: 67.8361\n",
            "Epoch 130/300\n",
            "10/10 [==============================] - 0s 4ms/step - loss: 7.3195 - mae: 7.3195 - mse: 61.9647 - val_loss: 7.5967 - val_mae: 7.5967 - val_mse: 65.9987\n",
            "Epoch 131/300\n",
            "10/10 [==============================] - 0s 5ms/step - loss: 7.2268 - mae: 7.2268 - mse: 60.3362 - val_loss: 7.4968 - val_mae: 7.4968 - val_mse: 64.2102\n",
            "Epoch 132/300\n",
            "10/10 [==============================] - 0s 5ms/step - loss: 7.1340 - mae: 7.1340 - mse: 58.7431 - val_loss: 7.3979 - val_mae: 7.3979 - val_mse: 62.4687\n",
            "Epoch 133/300\n",
            "10/10 [==============================] - 0s 4ms/step - loss: 7.0450 - mae: 7.0450 - mse: 57.2251 - val_loss: 7.2961 - val_mae: 7.2961 - val_mse: 60.7027\n",
            "Epoch 134/300\n",
            "10/10 [==============================] - 0s 4ms/step - loss: 6.9524 - mae: 6.9524 - mse: 55.6614 - val_loss: 7.1949 - val_mae: 7.1949 - val_mse: 58.9769\n",
            "Epoch 135/300\n",
            "10/10 [==============================] - 0s 4ms/step - loss: 6.8599 - mae: 6.8599 - mse: 54.1578 - val_loss: 7.0943 - val_mae: 7.0943 - val_mse: 57.2882\n",
            "Epoch 136/300\n",
            "10/10 [==============================] - 0s 4ms/step - loss: 6.7684 - mae: 6.7684 - mse: 52.6892 - val_loss: 6.9932 - val_mae: 6.9932 - val_mse: 55.6178\n",
            "Epoch 137/300\n",
            "10/10 [==============================] - 0s 4ms/step - loss: 6.6757 - mae: 6.6757 - mse: 51.2034 - val_loss: 6.8926 - val_mae: 6.8926 - val_mse: 53.9853\n",
            "Epoch 138/300\n",
            "10/10 [==============================] - 0s 4ms/step - loss: 6.5835 - mae: 6.5835 - mse: 49.7767 - val_loss: 6.7920 - val_mae: 6.7920 - val_mse: 52.3812\n",
            "Epoch 139/300\n",
            "10/10 [==============================] - 0s 4ms/step - loss: 6.4909 - mae: 6.4909 - mse: 48.3465 - val_loss: 6.6916 - val_mae: 6.6916 - val_mse: 50.8071\n",
            "Epoch 140/300\n",
            "10/10 [==============================] - 0s 4ms/step - loss: 6.3986 - mae: 6.3986 - mse: 46.9502 - val_loss: 6.5910 - val_mae: 6.5910 - val_mse: 49.2578\n",
            "Epoch 141/300\n",
            "10/10 [==============================] - 0s 5ms/step - loss: 6.3076 - mae: 6.3076 - mse: 45.6013 - val_loss: 6.4888 - val_mae: 6.4888 - val_mse: 47.7113\n",
            "Epoch 142/300\n",
            "10/10 [==============================] - 0s 4ms/step - loss: 6.2146 - mae: 6.2146 - mse: 44.2529 - val_loss: 6.3871 - val_mae: 6.3871 - val_mse: 46.2021\n",
            "Epoch 143/300\n",
            "10/10 [==============================] - 0s 4ms/step - loss: 6.1211 - mae: 6.1211 - mse: 42.9001 - val_loss: 6.2861 - val_mae: 6.2861 - val_mse: 44.7311\n",
            "Epoch 144/300\n",
            "10/10 [==============================] - 0s 4ms/step - loss: 6.0271 - mae: 6.0271 - mse: 41.6149 - val_loss: 6.1863 - val_mae: 6.1863 - val_mse: 43.3066\n",
            "Epoch 145/300\n",
            "10/10 [==============================] - 0s 4ms/step - loss: 5.9359 - mae: 5.9359 - mse: 40.3425 - val_loss: 6.0846 - val_mae: 6.0846 - val_mse: 41.8815\n",
            "Epoch 146/300\n",
            "10/10 [==============================] - 0s 4ms/step - loss: 5.8430 - mae: 5.8430 - mse: 39.0977 - val_loss: 5.9825 - val_mae: 5.9825 - val_mse: 40.4798\n",
            "Epoch 147/300\n",
            "10/10 [==============================] - 0s 4ms/step - loss: 5.7505 - mae: 5.7505 - mse: 37.8872 - val_loss: 5.8799 - val_mae: 5.8799 - val_mse: 39.0993\n",
            "Epoch 148/300\n",
            "10/10 [==============================] - 0s 5ms/step - loss: 5.6565 - mae: 5.6565 - mse: 36.6570 - val_loss: 5.7782 - val_mae: 5.7782 - val_mse: 37.7608\n",
            "Epoch 149/300\n",
            "10/10 [==============================] - 0s 3ms/step - loss: 5.5645 - mae: 5.5645 - mse: 35.5070 - val_loss: 5.6752 - val_mae: 5.6752 - val_mse: 36.4336\n",
            "Epoch 150/300\n",
            "10/10 [==============================] - 0s 4ms/step - loss: 5.4697 - mae: 5.4697 - mse: 34.3282 - val_loss: 5.5739 - val_mae: 5.5739 - val_mse: 35.1562\n",
            "Epoch 151/300\n",
            "10/10 [==============================] - 0s 5ms/step - loss: 5.3767 - mae: 5.3767 - mse: 33.1996 - val_loss: 5.4720 - val_mae: 5.4720 - val_mse: 33.9012\n",
            "Epoch 152/300\n",
            "10/10 [==============================] - 0s 4ms/step - loss: 5.2831 - mae: 5.2831 - mse: 32.0851 - val_loss: 5.3701 - val_mae: 5.3701 - val_mse: 32.6740\n",
            "Epoch 153/300\n",
            "10/10 [==============================] - 0s 4ms/step - loss: 5.1905 - mae: 5.1905 - mse: 31.0361 - val_loss: 5.2674 - val_mae: 5.2674 - val_mse: 31.4649\n",
            "Epoch 154/300\n",
            "10/10 [==============================] - 0s 4ms/step - loss: 5.0966 - mae: 5.0966 - mse: 29.9562 - val_loss: 5.1655 - val_mae: 5.1655 - val_mse: 30.2956\n",
            "Epoch 155/300\n",
            "10/10 [==============================] - 0s 4ms/step - loss: 5.0034 - mae: 5.0034 - mse: 28.9362 - val_loss: 5.0655 - val_mae: 5.0655 - val_mse: 29.1570\n",
            "Epoch 156/300\n",
            "10/10 [==============================] - 0s 4ms/step - loss: 4.9114 - mae: 4.9114 - mse: 27.9587 - val_loss: 4.9651 - val_mae: 4.9651 - val_mse: 28.0371\n",
            "Epoch 157/300\n",
            "10/10 [==============================] - 0s 4ms/step - loss: 4.8184 - mae: 4.8184 - mse: 26.9656 - val_loss: 4.8647 - val_mae: 4.8647 - val_mse: 26.9464\n",
            "Epoch 158/300\n",
            "10/10 [==============================] - 0s 4ms/step - loss: 4.7254 - mae: 4.7254 - mse: 26.0277 - val_loss: 4.7643 - val_mae: 4.7643 - val_mse: 25.8845\n",
            "Epoch 159/300\n",
            "10/10 [==============================] - 0s 4ms/step - loss: 4.6318 - mae: 4.6318 - mse: 25.0923 - val_loss: 4.6643 - val_mae: 4.6643 - val_mse: 24.8557\n",
            "Epoch 160/300\n",
            "10/10 [==============================] - 0s 4ms/step - loss: 4.5382 - mae: 4.5382 - mse: 24.1810 - val_loss: 4.5646 - val_mae: 4.5646 - val_mse: 23.8586\n",
            "Epoch 161/300\n",
            "10/10 [==============================] - 0s 4ms/step - loss: 4.4461 - mae: 4.4461 - mse: 23.3230 - val_loss: 4.4642 - val_mae: 4.4642 - val_mse: 22.8832\n",
            "Epoch 162/300\n",
            "10/10 [==============================] - 0s 4ms/step - loss: 4.3540 - mae: 4.3540 - mse: 22.4678 - val_loss: 4.3648 - val_mae: 4.3648 - val_mse: 21.9464\n",
            "Epoch 163/300\n",
            "10/10 [==============================] - 0s 5ms/step - loss: 4.2623 - mae: 4.2623 - mse: 21.6643 - val_loss: 4.2657 - val_mae: 4.2657 - val_mse: 21.0406\n",
            "Epoch 164/300\n",
            "10/10 [==============================] - 0s 5ms/step - loss: 4.1721 - mae: 4.1721 - mse: 20.8682 - val_loss: 4.1653 - val_mae: 4.1653 - val_mse: 20.1507\n",
            "Epoch 165/300\n",
            "10/10 [==============================] - 0s 4ms/step - loss: 4.0797 - mae: 4.0797 - mse: 20.0994 - val_loss: 4.0656 - val_mae: 4.0656 - val_mse: 19.2964\n",
            "Epoch 166/300\n",
            "10/10 [==============================] - 0s 4ms/step - loss: 3.9888 - mae: 3.9888 - mse: 19.3583 - val_loss: 3.9656 - val_mae: 3.9656 - val_mse: 18.4678\n",
            "Epoch 167/300\n",
            "10/10 [==============================] - 0s 3ms/step - loss: 3.8970 - mae: 3.8970 - mse: 18.6299 - val_loss: 3.8680 - val_mae: 3.8680 - val_mse: 17.6871\n",
            "Epoch 168/300\n",
            "10/10 [==============================] - 0s 4ms/step - loss: 3.8105 - mae: 3.8105 - mse: 17.9744 - val_loss: 3.7691 - val_mae: 3.7691 - val_mse: 16.9235\n",
            "Epoch 169/300\n",
            "10/10 [==============================] - 0s 5ms/step - loss: 3.7230 - mae: 3.7230 - mse: 17.3159 - val_loss: 3.6716 - val_mae: 3.6716 - val_mse: 16.1984\n",
            "Epoch 170/300\n",
            "10/10 [==============================] - 0s 4ms/step - loss: 3.6361 - mae: 3.6361 - mse: 16.6654 - val_loss: 3.5760 - val_mae: 3.5760 - val_mse: 15.5138\n",
            "Epoch 171/300\n",
            "10/10 [==============================] - 0s 4ms/step - loss: 3.5526 - mae: 3.5526 - mse: 16.0960 - val_loss: 3.4793 - val_mae: 3.4793 - val_mse: 14.8481\n",
            "Epoch 172/300\n",
            "10/10 [==============================] - 0s 4ms/step - loss: 3.4692 - mae: 3.4692 - mse: 15.5190 - val_loss: 3.3823 - val_mae: 3.3823 - val_mse: 14.2072\n",
            "Epoch 173/300\n",
            "10/10 [==============================] - 0s 4ms/step - loss: 3.3838 - mae: 3.3838 - mse: 14.9539 - val_loss: 3.2877 - val_mae: 3.2877 - val_mse: 13.6080\n",
            "Epoch 174/300\n",
            "10/10 [==============================] - 0s 5ms/step - loss: 3.3014 - mae: 3.3014 - mse: 14.4528 - val_loss: 3.1919 - val_mae: 3.1919 - val_mse: 13.0269\n",
            "Epoch 175/300\n",
            "10/10 [==============================] - 0s 4ms/step - loss: 3.2182 - mae: 3.2182 - mse: 13.9321 - val_loss: 3.1009 - val_mae: 3.1009 - val_mse: 12.4799\n",
            "Epoch 176/300\n",
            "10/10 [==============================] - 0s 4ms/step - loss: 3.1392 - mae: 3.1392 - mse: 13.4976 - val_loss: 3.0088 - val_mae: 3.0088 - val_mse: 11.9526\n",
            "Epoch 177/300\n",
            "10/10 [==============================] - 0s 4ms/step - loss: 3.0593 - mae: 3.0593 - mse: 13.0400 - val_loss: 2.9213 - val_mae: 2.9213 - val_mse: 11.4599\n",
            "Epoch 178/300\n",
            "10/10 [==============================] - 0s 4ms/step - loss: 2.9792 - mae: 2.9792 - mse: 12.6207 - val_loss: 2.8354 - val_mae: 2.8354 - val_mse: 11.0003\n",
            "Epoch 179/300\n",
            "10/10 [==============================] - 0s 4ms/step - loss: 2.9020 - mae: 2.9020 - mse: 12.2251 - val_loss: 2.7486 - val_mae: 2.7486 - val_mse: 10.5585\n",
            "Epoch 180/300\n",
            "10/10 [==============================] - 0s 4ms/step - loss: 2.8258 - mae: 2.8258 - mse: 11.8708 - val_loss: 2.6651 - val_mae: 2.6651 - val_mse: 10.1470\n",
            "Epoch 181/300\n",
            "10/10 [==============================] - 0s 4ms/step - loss: 2.7511 - mae: 2.7511 - mse: 11.5126 - val_loss: 2.5837 - val_mae: 2.5837 - val_mse: 9.7693\n",
            "Epoch 182/300\n",
            "10/10 [==============================] - 0s 4ms/step - loss: 2.6775 - mae: 2.6775 - mse: 11.1902 - val_loss: 2.5034 - val_mae: 2.5034 - val_mse: 9.4200\n",
            "Epoch 183/300\n",
            "10/10 [==============================] - 0s 3ms/step - loss: 2.6064 - mae: 2.6064 - mse: 10.9002 - val_loss: 2.4243 - val_mae: 2.4243 - val_mse: 9.0965\n",
            "Epoch 184/300\n",
            "10/10 [==============================] - 0s 4ms/step - loss: 2.5384 - mae: 2.5384 - mse: 10.6293 - val_loss: 2.3473 - val_mae: 2.3473 - val_mse: 8.7968\n",
            "Epoch 185/300\n",
            "10/10 [==============================] - 0s 4ms/step - loss: 2.4731 - mae: 2.4731 - mse: 10.3813 - val_loss: 2.2716 - val_mae: 2.2716 - val_mse: 8.5220\n",
            "Epoch 186/300\n",
            "10/10 [==============================] - 0s 4ms/step - loss: 2.4124 - mae: 2.4124 - mse: 10.1522 - val_loss: 2.2023 - val_mae: 2.2023 - val_mse: 8.2867\n",
            "Epoch 187/300\n",
            "10/10 [==============================] - 0s 4ms/step - loss: 2.3599 - mae: 2.3599 - mse: 9.9637 - val_loss: 2.1368 - val_mae: 2.1368 - val_mse: 8.0769\n",
            "Epoch 188/300\n",
            "10/10 [==============================] - 0s 4ms/step - loss: 2.3147 - mae: 2.3147 - mse: 9.7962 - val_loss: 2.0772 - val_mae: 2.0772 - val_mse: 7.8995\n",
            "Epoch 189/300\n",
            "10/10 [==============================] - 0s 4ms/step - loss: 2.2727 - mae: 2.2727 - mse: 9.6456 - val_loss: 2.0216 - val_mae: 2.0216 - val_mse: 7.7472\n",
            "Epoch 190/300\n",
            "10/10 [==============================] - 0s 4ms/step - loss: 2.2349 - mae: 2.2349 - mse: 9.5277 - val_loss: 1.9666 - val_mae: 1.9666 - val_mse: 7.6050\n",
            "Epoch 191/300\n",
            "10/10 [==============================] - 0s 3ms/step - loss: 2.2002 - mae: 2.2002 - mse: 9.4144 - val_loss: 1.9237 - val_mae: 1.9237 - val_mse: 7.4913\n",
            "Epoch 192/300\n",
            "10/10 [==============================] - 0s 4ms/step - loss: 2.1737 - mae: 2.1737 - mse: 9.3243 - val_loss: 1.8811 - val_mae: 1.8811 - val_mse: 7.3884\n",
            "Epoch 193/300\n",
            "10/10 [==============================] - 0s 4ms/step - loss: 2.1453 - mae: 2.1453 - mse: 9.2416 - val_loss: 1.8413 - val_mae: 1.8413 - val_mse: 7.3012\n",
            "Epoch 194/300\n",
            "10/10 [==============================] - 0s 3ms/step - loss: 2.1188 - mae: 2.1188 - mse: 9.1721 - val_loss: 1.8086 - val_mae: 1.8086 - val_mse: 7.2242\n",
            "Epoch 195/300\n",
            "10/10 [==============================] - 0s 4ms/step - loss: 2.0948 - mae: 2.0948 - mse: 9.1142 - val_loss: 1.7798 - val_mae: 1.7798 - val_mse: 7.1562\n",
            "Epoch 196/300\n",
            "10/10 [==============================] - 0s 3ms/step - loss: 2.0717 - mae: 2.0717 - mse: 9.0550 - val_loss: 1.7544 - val_mae: 1.7544 - val_mse: 7.0996\n",
            "Epoch 197/300\n",
            "10/10 [==============================] - 0s 4ms/step - loss: 2.0518 - mae: 2.0518 - mse: 9.0116 - val_loss: 1.7319 - val_mae: 1.7319 - val_mse: 7.0536\n",
            "Epoch 198/300\n",
            "10/10 [==============================] - 0s 4ms/step - loss: 2.0362 - mae: 2.0362 - mse: 8.9857 - val_loss: 1.7133 - val_mae: 1.7133 - val_mse: 7.0123\n",
            "Epoch 199/300\n",
            "10/10 [==============================] - 0s 4ms/step - loss: 2.0193 - mae: 2.0193 - mse: 8.9542 - val_loss: 1.6981 - val_mae: 1.6981 - val_mse: 6.9812\n",
            "Epoch 200/300\n",
            "10/10 [==============================] - 0s 4ms/step - loss: 2.0040 - mae: 2.0040 - mse: 8.9333 - val_loss: 1.6830 - val_mae: 1.6830 - val_mse: 6.9554\n",
            "Epoch 201/300\n",
            "10/10 [==============================] - 0s 4ms/step - loss: 1.9903 - mae: 1.9903 - mse: 8.9161 - val_loss: 1.6705 - val_mae: 1.6705 - val_mse: 6.9349\n",
            "Epoch 202/300\n",
            "10/10 [==============================] - 0s 4ms/step - loss: 1.9805 - mae: 1.9805 - mse: 8.9102 - val_loss: 1.6607 - val_mae: 1.6607 - val_mse: 6.9209\n",
            "Epoch 203/300\n",
            "10/10 [==============================] - 0s 5ms/step - loss: 1.9704 - mae: 1.9704 - mse: 8.8965 - val_loss: 1.6529 - val_mae: 1.6529 - val_mse: 6.9126\n",
            "Epoch 204/300\n",
            "10/10 [==============================] - 0s 4ms/step - loss: 1.9627 - mae: 1.9627 - mse: 8.8916 - val_loss: 1.6447 - val_mae: 1.6447 - val_mse: 6.9065\n",
            "Epoch 205/300\n",
            "10/10 [==============================] - 0s 4ms/step - loss: 1.9546 - mae: 1.9546 - mse: 8.8910 - val_loss: 1.6388 - val_mae: 1.6388 - val_mse: 6.9034\n",
            "Epoch 206/300\n",
            "10/10 [==============================] - 0s 4ms/step - loss: 1.9487 - mae: 1.9487 - mse: 8.8875 - val_loss: 1.6338 - val_mae: 1.6338 - val_mse: 6.9025\n",
            "Epoch 207/300\n",
            "10/10 [==============================] - 0s 4ms/step - loss: 1.9438 - mae: 1.9438 - mse: 8.8971 - val_loss: 1.6290 - val_mae: 1.6290 - val_mse: 6.9040\n",
            "Epoch 208/300\n",
            "10/10 [==============================] - 0s 4ms/step - loss: 1.9389 - mae: 1.9389 - mse: 8.8974 - val_loss: 1.6264 - val_mae: 1.6264 - val_mse: 6.9068\n",
            "Epoch 209/300\n",
            "10/10 [==============================] - 0s 4ms/step - loss: 1.9359 - mae: 1.9359 - mse: 8.9076 - val_loss: 1.6245 - val_mae: 1.6245 - val_mse: 6.9109\n",
            "Epoch 210/300\n",
            "10/10 [==============================] - 0s 3ms/step - loss: 1.9331 - mae: 1.9331 - mse: 8.9137 - val_loss: 1.6253 - val_mae: 1.6253 - val_mse: 6.9149\n",
            "Epoch 211/300\n",
            "10/10 [==============================] - 0s 4ms/step - loss: 1.9312 - mae: 1.9312 - mse: 8.9164 - val_loss: 1.6259 - val_mae: 1.6259 - val_mse: 6.9181\n",
            "Epoch 212/300\n",
            "10/10 [==============================] - 0s 5ms/step - loss: 1.9301 - mae: 1.9301 - mse: 8.9228 - val_loss: 1.6266 - val_mae: 1.6266 - val_mse: 6.9228\n",
            "Epoch 213/300\n",
            "10/10 [==============================] - 0s 4ms/step - loss: 1.9285 - mae: 1.9285 - mse: 8.9256 - val_loss: 1.6272 - val_mae: 1.6272 - val_mse: 6.9274\n",
            "Epoch 214/300\n",
            "10/10 [==============================] - 0s 4ms/step - loss: 1.9270 - mae: 1.9270 - mse: 8.9292 - val_loss: 1.6279 - val_mae: 1.6279 - val_mse: 6.9324\n",
            "Epoch 215/300\n",
            "10/10 [==============================] - 0s 4ms/step - loss: 1.9260 - mae: 1.9260 - mse: 8.9382 - val_loss: 1.6286 - val_mae: 1.6286 - val_mse: 6.9389\n",
            "Epoch 216/300\n",
            "10/10 [==============================] - 0s 4ms/step - loss: 1.9241 - mae: 1.9241 - mse: 8.9425 - val_loss: 1.6292 - val_mae: 1.6292 - val_mse: 6.9446\n",
            "Epoch 217/300\n",
            "10/10 [==============================] - 0s 4ms/step - loss: 1.9228 - mae: 1.9228 - mse: 8.9508 - val_loss: 1.6303 - val_mae: 1.6303 - val_mse: 6.9509\n",
            "Epoch 218/300\n",
            "10/10 [==============================] - 0s 4ms/step - loss: 1.9221 - mae: 1.9221 - mse: 8.9570 - val_loss: 1.6319 - val_mae: 1.6319 - val_mse: 6.9558\n",
            "Epoch 219/300\n",
            "10/10 [==============================] - 0s 4ms/step - loss: 1.9219 - mae: 1.9219 - mse: 8.9612 - val_loss: 1.6331 - val_mae: 1.6331 - val_mse: 6.9594\n",
            "Epoch 220/300\n",
            "10/10 [==============================] - 0s 4ms/step - loss: 1.9217 - mae: 1.9217 - mse: 8.9651 - val_loss: 1.6341 - val_mae: 1.6341 - val_mse: 6.9623\n",
            "Epoch 221/300\n",
            "10/10 [==============================] - 0s 4ms/step - loss: 1.9215 - mae: 1.9215 - mse: 8.9674 - val_loss: 1.6348 - val_mae: 1.6348 - val_mse: 6.9644\n",
            "Epoch 222/300\n",
            "10/10 [==============================] - 0s 4ms/step - loss: 1.9216 - mae: 1.9216 - mse: 8.9718 - val_loss: 1.6357 - val_mae: 1.6357 - val_mse: 6.9677\n",
            "Epoch 223/300\n",
            "10/10 [==============================] - 0s 4ms/step - loss: 1.9213 - mae: 1.9213 - mse: 8.9728 - val_loss: 1.6362 - val_mae: 1.6362 - val_mse: 6.9690\n",
            "Epoch 224/300\n",
            "10/10 [==============================] - 0s 5ms/step - loss: 1.9213 - mae: 1.9213 - mse: 8.9732 - val_loss: 1.6362 - val_mae: 1.6362 - val_mse: 6.9685\n",
            "Epoch 225/300\n",
            "10/10 [==============================] - 0s 6ms/step - loss: 1.9212 - mae: 1.9212 - mse: 8.9747 - val_loss: 1.6370 - val_mae: 1.6370 - val_mse: 6.9712\n",
            "Epoch 226/300\n",
            "10/10 [==============================] - 0s 4ms/step - loss: 1.9210 - mae: 1.9210 - mse: 8.9766 - val_loss: 1.6375 - val_mae: 1.6375 - val_mse: 6.9728\n",
            "Epoch 227/300\n",
            "10/10 [==============================] - 0s 4ms/step - loss: 1.9209 - mae: 1.9209 - mse: 8.9784 - val_loss: 1.6380 - val_mae: 1.6380 - val_mse: 6.9742\n",
            "Epoch 228/300\n",
            "10/10 [==============================] - 0s 4ms/step - loss: 1.9208 - mae: 1.9208 - mse: 8.9791 - val_loss: 1.6381 - val_mae: 1.6381 - val_mse: 6.9746\n",
            "Epoch 229/300\n",
            "10/10 [==============================] - 0s 4ms/step - loss: 1.9208 - mae: 1.9208 - mse: 8.9822 - val_loss: 1.6391 - val_mae: 1.6391 - val_mse: 6.9781\n",
            "Epoch 230/300\n",
            "10/10 [==============================] - 0s 4ms/step - loss: 1.9206 - mae: 1.9206 - mse: 8.9850 - val_loss: 1.6398 - val_mae: 1.6398 - val_mse: 6.9805\n",
            "Epoch 231/300\n",
            "10/10 [==============================] - 0s 5ms/step - loss: 1.9204 - mae: 1.9204 - mse: 8.9865 - val_loss: 1.6402 - val_mae: 1.6402 - val_mse: 6.9818\n",
            "Epoch 232/300\n",
            "10/10 [==============================] - 0s 4ms/step - loss: 1.9203 - mae: 1.9203 - mse: 8.9871 - val_loss: 1.6405 - val_mae: 1.6405 - val_mse: 6.9826\n",
            "Epoch 233/300\n",
            "10/10 [==============================] - 0s 4ms/step - loss: 1.9202 - mae: 1.9202 - mse: 8.9885 - val_loss: 1.6411 - val_mae: 1.6411 - val_mse: 6.9847\n",
            "Epoch 234/300\n",
            "10/10 [==============================] - 0s 4ms/step - loss: 1.9202 - mae: 1.9202 - mse: 8.9921 - val_loss: 1.6419 - val_mae: 1.6419 - val_mse: 6.9877\n",
            "Epoch 235/300\n",
            "10/10 [==============================] - 0s 4ms/step - loss: 1.9200 - mae: 1.9200 - mse: 8.9951 - val_loss: 1.6426 - val_mae: 1.6426 - val_mse: 6.9901\n",
            "Epoch 236/300\n",
            "10/10 [==============================] - 0s 4ms/step - loss: 1.9198 - mae: 1.9198 - mse: 8.9959 - val_loss: 1.6429 - val_mae: 1.6429 - val_mse: 6.9912\n",
            "Epoch 237/300\n",
            "10/10 [==============================] - 0s 5ms/step - loss: 1.9197 - mae: 1.9197 - mse: 8.9965 - val_loss: 1.6430 - val_mae: 1.6430 - val_mse: 6.9916\n",
            "Epoch 238/300\n",
            "10/10 [==============================] - 0s 4ms/step - loss: 1.9196 - mae: 1.9196 - mse: 8.9989 - val_loss: 1.6438 - val_mae: 1.6438 - val_mse: 6.9946\n",
            "Epoch 239/300\n",
            "10/10 [==============================] - 0s 4ms/step - loss: 1.9196 - mae: 1.9196 - mse: 9.0030 - val_loss: 1.6446 - val_mae: 1.6446 - val_mse: 6.9976\n",
            "Epoch 240/300\n",
            "10/10 [==============================] - 0s 4ms/step - loss: 1.9194 - mae: 1.9194 - mse: 9.0037 - val_loss: 1.6450 - val_mae: 1.6450 - val_mse: 6.9994\n",
            "Epoch 241/300\n",
            "10/10 [==============================] - 0s 4ms/step - loss: 1.9192 - mae: 1.9192 - mse: 9.0056 - val_loss: 1.6453 - val_mae: 1.6453 - val_mse: 7.0004\n",
            "Epoch 242/300\n",
            "10/10 [==============================] - 0s 4ms/step - loss: 1.9192 - mae: 1.9192 - mse: 9.0083 - val_loss: 1.6462 - val_mae: 1.6462 - val_mse: 7.0038\n",
            "Epoch 243/300\n",
            "10/10 [==============================] - 0s 5ms/step - loss: 1.9191 - mae: 1.9191 - mse: 9.0114 - val_loss: 1.6468 - val_mae: 1.6468 - val_mse: 7.0064\n",
            "Epoch 244/300\n",
            "10/10 [==============================] - 0s 4ms/step - loss: 1.9191 - mae: 1.9191 - mse: 9.0151 - val_loss: 1.6477 - val_mae: 1.6477 - val_mse: 7.0107\n",
            "Epoch 245/300\n",
            "10/10 [==============================] - 0s 5ms/step - loss: 1.9187 - mae: 1.9187 - mse: 9.0171 - val_loss: 1.6480 - val_mae: 1.6480 - val_mse: 7.0118\n",
            "Epoch 246/300\n",
            "10/10 [==============================] - 0s 5ms/step - loss: 1.9186 - mae: 1.9186 - mse: 9.0177 - val_loss: 1.6481 - val_mae: 1.6481 - val_mse: 7.0118\n",
            "Epoch 247/300\n",
            "10/10 [==============================] - 0s 5ms/step - loss: 1.9185 - mae: 1.9185 - mse: 9.0187 - val_loss: 1.6485 - val_mae: 1.6485 - val_mse: 7.0134\n",
            "Epoch 248/300\n",
            "10/10 [==============================] - 0s 4ms/step - loss: 1.9184 - mae: 1.9184 - mse: 9.0203 - val_loss: 1.6490 - val_mae: 1.6490 - val_mse: 7.0155\n",
            "Epoch 249/300\n",
            "10/10 [==============================] - 0s 4ms/step - loss: 1.9183 - mae: 1.9183 - mse: 9.0220 - val_loss: 1.6494 - val_mae: 1.6494 - val_mse: 7.0170\n",
            "Epoch 250/300\n",
            "10/10 [==============================] - 0s 4ms/step - loss: 1.9187 - mae: 1.9187 - mse: 9.0279 - val_loss: 1.6510 - val_mae: 1.6510 - val_mse: 7.0249\n",
            "Epoch 251/300\n",
            "10/10 [==============================] - 0s 4ms/step - loss: 1.9180 - mae: 1.9180 - mse: 9.0312 - val_loss: 1.6513 - val_mae: 1.6513 - val_mse: 7.0258\n",
            "Epoch 252/300\n",
            "10/10 [==============================] - 0s 4ms/step - loss: 1.9179 - mae: 1.9179 - mse: 9.0335 - val_loss: 1.6519 - val_mae: 1.6519 - val_mse: 7.0287\n",
            "Epoch 253/300\n",
            "10/10 [==============================] - 0s 4ms/step - loss: 1.9179 - mae: 1.9179 - mse: 9.0377 - val_loss: 1.6528 - val_mae: 1.6528 - val_mse: 7.0333\n",
            "Epoch 254/300\n",
            "10/10 [==============================] - 0s 5ms/step - loss: 1.9176 - mae: 1.9176 - mse: 9.0390 - val_loss: 1.6530 - val_mae: 1.6530 - val_mse: 7.0337\n",
            "Epoch 255/300\n",
            "10/10 [==============================] - 0s 4ms/step - loss: 1.9176 - mae: 1.9176 - mse: 9.0396 - val_loss: 1.6527 - val_mae: 1.6527 - val_mse: 7.0320\n",
            "Epoch 256/300\n",
            "10/10 [==============================] - 0s 4ms/step - loss: 1.9176 - mae: 1.9176 - mse: 9.0391 - val_loss: 1.6528 - val_mae: 1.6528 - val_mse: 7.0320\n",
            "Epoch 257/300\n",
            "10/10 [==============================] - 0s 4ms/step - loss: 1.9175 - mae: 1.9175 - mse: 9.0376 - val_loss: 1.6525 - val_mae: 1.6525 - val_mse: 7.0304\n",
            "Epoch 258/300\n",
            "10/10 [==============================] - 0s 4ms/step - loss: 1.9177 - mae: 1.9177 - mse: 9.0353 - val_loss: 1.6522 - val_mae: 1.6522 - val_mse: 7.0284\n",
            "Epoch 259/300\n",
            "10/10 [==============================] - 0s 4ms/step - loss: 1.9176 - mae: 1.9176 - mse: 9.0388 - val_loss: 1.6534 - val_mae: 1.6534 - val_mse: 7.0337\n",
            "Epoch 260/300\n",
            "10/10 [==============================] - 0s 4ms/step - loss: 1.9176 - mae: 1.9176 - mse: 9.0378 - val_loss: 1.6523 - val_mae: 1.6523 - val_mse: 7.0281\n",
            "Epoch 261/300\n",
            "10/10 [==============================] - 0s 5ms/step - loss: 1.9173 - mae: 1.9173 - mse: 9.0346 - val_loss: 1.6524 - val_mae: 1.6524 - val_mse: 7.0282\n",
            "Epoch 262/300\n",
            "10/10 [==============================] - 0s 4ms/step - loss: 1.9173 - mae: 1.9173 - mse: 9.0357 - val_loss: 1.6529 - val_mae: 1.6529 - val_mse: 7.0305\n",
            "Epoch 263/300\n",
            "10/10 [==============================] - 0s 4ms/step - loss: 1.9173 - mae: 1.9173 - mse: 9.0371 - val_loss: 1.6526 - val_mae: 1.6526 - val_mse: 7.0288\n",
            "Epoch 264/300\n",
            "10/10 [==============================] - 0s 4ms/step - loss: 1.9172 - mae: 1.9172 - mse: 9.0327 - val_loss: 1.6519 - val_mae: 1.6519 - val_mse: 7.0246\n",
            "Epoch 265/300\n",
            "10/10 [==============================] - 0s 4ms/step - loss: 1.9172 - mae: 1.9172 - mse: 9.0317 - val_loss: 1.6521 - val_mae: 1.6521 - val_mse: 7.0254\n",
            "Epoch 266/300\n",
            "10/10 [==============================] - 0s 5ms/step - loss: 1.9172 - mae: 1.9172 - mse: 9.0317 - val_loss: 1.6524 - val_mae: 1.6524 - val_mse: 7.0266\n",
            "Epoch 267/300\n",
            "10/10 [==============================] - 0s 5ms/step - loss: 1.9171 - mae: 1.9171 - mse: 9.0325 - val_loss: 1.6521 - val_mae: 1.6521 - val_mse: 7.0249\n",
            "Epoch 268/300\n",
            "10/10 [==============================] - 0s 5ms/step - loss: 1.9171 - mae: 1.9171 - mse: 9.0336 - val_loss: 1.6523 - val_mae: 1.6523 - val_mse: 7.0252\n",
            "Epoch 269/300\n",
            "10/10 [==============================] - 0s 4ms/step - loss: 1.9169 - mae: 1.9169 - mse: 9.0322 - val_loss: 1.6525 - val_mae: 1.6525 - val_mse: 7.0258\n",
            "Epoch 270/300\n",
            "10/10 [==============================] - 0s 5ms/step - loss: 1.9169 - mae: 1.9169 - mse: 9.0322 - val_loss: 1.6521 - val_mae: 1.6521 - val_mse: 7.0238\n",
            "Epoch 271/300\n",
            "10/10 [==============================] - 0s 4ms/step - loss: 1.9172 - mae: 1.9172 - mse: 9.0281 - val_loss: 1.6512 - val_mae: 1.6512 - val_mse: 7.0187\n",
            "Epoch 272/300\n",
            "10/10 [==============================] - 0s 4ms/step - loss: 1.9169 - mae: 1.9169 - mse: 9.0291 - val_loss: 1.6522 - val_mae: 1.6522 - val_mse: 7.0234\n",
            "Epoch 273/300\n",
            "10/10 [==============================] - 0s 4ms/step - loss: 1.9167 - mae: 1.9167 - mse: 9.0297 - val_loss: 1.6518 - val_mae: 1.6518 - val_mse: 7.0211\n",
            "Epoch 274/300\n",
            "10/10 [==============================] - 0s 5ms/step - loss: 1.9167 - mae: 1.9167 - mse: 9.0290 - val_loss: 1.6521 - val_mae: 1.6521 - val_mse: 7.0221\n",
            "Epoch 275/300\n",
            "10/10 [==============================] - 0s 5ms/step - loss: 1.9166 - mae: 1.9166 - mse: 9.0290 - val_loss: 1.6519 - val_mae: 1.6519 - val_mse: 7.0207\n",
            "Epoch 276/300\n",
            "10/10 [==============================] - 0s 4ms/step - loss: 1.9167 - mae: 1.9167 - mse: 9.0276 - val_loss: 1.6519 - val_mae: 1.6519 - val_mse: 7.0202\n",
            "Epoch 277/300\n",
            "10/10 [==============================] - 0s 4ms/step - loss: 1.9165 - mae: 1.9165 - mse: 9.0279 - val_loss: 1.6521 - val_mae: 1.6521 - val_mse: 7.0207\n",
            "Epoch 278/300\n",
            "10/10 [==============================] - 0s 4ms/step - loss: 1.9165 - mae: 1.9165 - mse: 9.0268 - val_loss: 1.6518 - val_mae: 1.6518 - val_mse: 7.0193\n",
            "Epoch 279/300\n",
            "10/10 [==============================] - 0s 4ms/step - loss: 1.9165 - mae: 1.9165 - mse: 9.0284 - val_loss: 1.6522 - val_mae: 1.6522 - val_mse: 7.0207\n",
            "Epoch 280/300\n",
            "10/10 [==============================] - 0s 5ms/step - loss: 1.9164 - mae: 1.9164 - mse: 9.0263 - val_loss: 1.6512 - val_mae: 1.6512 - val_mse: 7.0154\n",
            "Epoch 281/300\n",
            "10/10 [==============================] - 0s 4ms/step - loss: 1.9165 - mae: 1.9165 - mse: 9.0213 - val_loss: 1.6508 - val_mae: 1.6508 - val_mse: 7.0127\n",
            "Epoch 282/300\n",
            "10/10 [==============================] - 0s 3ms/step - loss: 1.9164 - mae: 1.9164 - mse: 9.0204 - val_loss: 1.6509 - val_mae: 1.6509 - val_mse: 7.0128\n",
            "Epoch 283/300\n",
            "10/10 [==============================] - 0s 4ms/step - loss: 1.9163 - mae: 1.9163 - mse: 9.0241 - val_loss: 1.6521 - val_mae: 1.6521 - val_mse: 7.0186\n",
            "Epoch 284/300\n",
            "10/10 [==============================] - 0s 4ms/step - loss: 1.9162 - mae: 1.9162 - mse: 9.0253 - val_loss: 1.6516 - val_mae: 1.6516 - val_mse: 7.0159\n",
            "Epoch 285/300\n",
            "10/10 [==============================] - 0s 4ms/step - loss: 1.9162 - mae: 1.9162 - mse: 9.0221 - val_loss: 1.6510 - val_mae: 1.6510 - val_mse: 7.0121\n",
            "Epoch 286/300\n",
            "10/10 [==============================] - 0s 4ms/step - loss: 1.9164 - mae: 1.9164 - mse: 9.0253 - val_loss: 1.6518 - val_mae: 1.6518 - val_mse: 7.0161\n",
            "Epoch 287/300\n",
            "10/10 [==============================] - 0s 3ms/step - loss: 1.9160 - mae: 1.9160 - mse: 9.0224 - val_loss: 1.6513 - val_mae: 1.6513 - val_mse: 7.0130\n",
            "Epoch 288/300\n",
            "10/10 [==============================] - 0s 4ms/step - loss: 1.9160 - mae: 1.9160 - mse: 9.0193 - val_loss: 1.6508 - val_mae: 1.6508 - val_mse: 7.0100\n",
            "Epoch 289/300\n",
            "10/10 [==============================] - 0s 4ms/step - loss: 1.9160 - mae: 1.9160 - mse: 9.0206 - val_loss: 1.6515 - val_mae: 1.6515 - val_mse: 7.0133\n",
            "Epoch 290/300\n",
            "10/10 [==============================] - 0s 5ms/step - loss: 1.9158 - mae: 1.9158 - mse: 9.0199 - val_loss: 1.6509 - val_mae: 1.6509 - val_mse: 7.0097\n",
            "Epoch 291/300\n",
            "10/10 [==============================] - 0s 5ms/step - loss: 1.9158 - mae: 1.9158 - mse: 9.0171 - val_loss: 1.6508 - val_mae: 1.6508 - val_mse: 7.0087\n",
            "Epoch 292/300\n",
            "10/10 [==============================] - 0s 4ms/step - loss: 1.9157 - mae: 1.9157 - mse: 9.0175 - val_loss: 1.6513 - val_mae: 1.6513 - val_mse: 7.0108\n",
            "Epoch 293/300\n",
            "10/10 [==============================] - 0s 5ms/step - loss: 1.9157 - mae: 1.9157 - mse: 9.0195 - val_loss: 1.6513 - val_mae: 1.6513 - val_mse: 7.0108\n",
            "Epoch 294/300\n",
            "10/10 [==============================] - 0s 4ms/step - loss: 1.9156 - mae: 1.9156 - mse: 9.0185 - val_loss: 1.6510 - val_mae: 1.6510 - val_mse: 7.0088\n",
            "Epoch 295/300\n",
            "10/10 [==============================] - 0s 4ms/step - loss: 1.9155 - mae: 1.9155 - mse: 9.0177 - val_loss: 1.6511 - val_mae: 1.6511 - val_mse: 7.0089\n",
            "Epoch 296/300\n",
            "10/10 [==============================] - 0s 6ms/step - loss: 1.9155 - mae: 1.9155 - mse: 9.0179 - val_loss: 1.6510 - val_mae: 1.6510 - val_mse: 7.0079\n",
            "Epoch 297/300\n",
            "10/10 [==============================] - 0s 5ms/step - loss: 1.9156 - mae: 1.9156 - mse: 9.0141 - val_loss: 1.6502 - val_mae: 1.6502 - val_mse: 7.0032\n",
            "Epoch 298/300\n",
            "10/10 [==============================] - 0s 4ms/step - loss: 1.9155 - mae: 1.9155 - mse: 9.0120 - val_loss: 1.6504 - val_mae: 1.6504 - val_mse: 7.0036\n",
            "Epoch 299/300\n",
            "10/10 [==============================] - 0s 5ms/step - loss: 1.9154 - mae: 1.9154 - mse: 9.0144 - val_loss: 1.6512 - val_mae: 1.6512 - val_mse: 7.0076\n",
            "Epoch 300/300\n",
            "10/10 [==============================] - 0s 4ms/step - loss: 1.9155 - mae: 1.9155 - mse: 9.0178 - val_loss: 1.6511 - val_mae: 1.6511 - val_mse: 7.0065\n"
          ],
          "name": "stdout"
        }
      ]
    },
    {
      "cell_type": "code",
      "metadata": {
        "colab": {
          "base_uri": "https://localhost:8080/"
        },
        "id": "Kbz8vqdSGk12",
        "outputId": "7f9c4882-da03-42e6-a098-e1c6a446d2c9"
      },
      "source": [
        "print(history)"
      ],
      "execution_count": 46,
      "outputs": [
        {
          "output_type": "stream",
          "text": [
            "<tensorflow.python.keras.callbacks.History object at 0x7f07859ebed0>\n"
          ],
          "name": "stdout"
        }
      ]
    },
    {
      "cell_type": "code",
      "metadata": {
        "colab": {
          "base_uri": "https://localhost:8080/"
        },
        "id": "SREUlwuxGyIJ",
        "outputId": "e8e8df86-eb81-4555-dee7-17b69f95841e"
      },
      "source": [
        "model.summary()"
      ],
      "execution_count": 47,
      "outputs": [
        {
          "output_type": "stream",
          "text": [
            "Model: \"sequential\"\n",
            "_________________________________________________________________\n",
            "Layer (type)                 Output Shape              Param #   \n",
            "=================================================================\n",
            "dense (Dense)                (None, 1)                 2         \n",
            "=================================================================\n",
            "Total params: 2\n",
            "Trainable params: 2\n",
            "Non-trainable params: 0\n",
            "_________________________________________________________________\n"
          ],
          "name": "stdout"
        }
      ]
    },
    {
      "cell_type": "code",
      "metadata": {
        "colab": {
          "base_uri": "https://localhost:8080/",
          "height": 1000
        },
        "id": "FVfBYRPmG5lG",
        "outputId": "8cdce384-8104-4462-a028-5f00f39c7d6f"
      },
      "source": [
        "# tempString = 'mse'\n",
        "def curvePlots(tempString):\n",
        "  plt.plot(history.history[tempString])\n",
        "  plt.plot(history.history[f'val_{tempString}'])\n",
        "  plt.xlabel('NumEpochs')\n",
        "  plt.ylabel(tempString)\n",
        "  plt.legend([tempString, f'val_{tempString}'])\n",
        "  plt.show()\n",
        "\n",
        "\n",
        "curvePlots('mse')\n",
        "curvePlots('mae')\n",
        "curvePlots('loss')"
      ],
      "execution_count": 48,
      "outputs": [
        {
          "output_type": "display_data",
          "data": {
            "image/png": "[encoded data removed]",
            "text/plain": [
              "<Figure size 576x396 with 1 Axes>"
            ]
          },
          "metadata": {
            "tags": []
          }
        },
        {
          "output_type": "display_data",
          "data": {
            "image/png": "[encoded data removed]",
            "text/plain": [
              "<Figure size 576x396 with 1 Axes>"
            ]
          },
          "metadata": {
            "tags": []
          }
        },
        {
          "output_type": "display_data",
          "data": {
            "image/png": "[encoded data removed]",
            "text/plain": [
              "<Figure size 576x396 with 1 Axes>"
            ]
          },
          "metadata": {
            "tags": []
          }
        }
      ]
    },
    {
      "cell_type": "code",
      "metadata": {
        "colab": {
          "base_uri": "https://localhost:8080/"
        },
        "id": "rJed-pCqHsXt",
        "outputId": "0b302af2-08e5-44af-ca2a-b10cadeb20f8"
      },
      "source": [
        "model.predict([6])"
      ],
      "execution_count": 50,
      "outputs": [
        {
          "output_type": "execute_result",
          "data": {
            "text/plain": [
              "array([[6.8759413]], dtype=float32)"
            ]
          },
          "metadata": {
            "tags": []
          },
          "execution_count": 50
        }
      ]
    },
    {
      "cell_type": "code",
      "metadata": {
        "colab": {
          "base_uri": "https://localhost:8080/"
        },
        "id": "rZNLo8HiIW0i",
        "outputId": "4d36aaa6-0eb7-454e-b149-a445aff0c236"
      },
      "source": [
        "# testPreds = model.predict(testFeatures).flatten() #array of all prediction values\n",
        "\n",
        "temptlist = [1,2,3,4,5 ]\n",
        "\n",
        "print(f'''\n",
        "\n",
        "input List = {temptlist}\n",
        "\n",
        "\n",
        "List of Predictions:\n",
        "{model.predict(temptlist)}\n",
        "\n",
        "List of Predictions (flattened out):\n",
        "{model.predict(temptlist).flatten()}\n",
        "''')"
      ],
      "execution_count": 54,
      "outputs": [
        {
          "output_type": "stream",
          "text": [
            "\n",
            "\n",
            "input List = [1, 2, 3, 4, 5]\n",
            "\n",
            "\n",
            "List of Predictions:\n",
            "[[2.6049085]\n",
            " [3.459115 ]\n",
            " [4.3133216]\n",
            " [5.167528 ]\n",
            " [6.0217347]]\n",
            "\n",
            "List of Predictions (flattened out):\n",
            "[2.6049085 3.459115  4.3133216 5.167528  6.0217347]\n",
            "\n"
          ],
          "name": "stdout"
        }
      ]
    },
    {
      "cell_type": "code",
      "metadata": {
        "colab": {
          "base_uri": "https://localhost:8080/"
        },
        "id": "U1fOTzSrJKVe",
        "outputId": "b22bb5a1-ae32-4f2f-a472-9f067c781428"
      },
      "source": [
        "print(testFeatures)"
      ],
      "execution_count": 55,
      "outputs": [
        {
          "output_type": "stream",
          "text": [
            "     G1\n",
            "9    14\n",
            "25    6\n",
            "28   11\n",
            "31   17\n",
            "32   17\n",
            "..   ..\n",
            "365  10\n",
            "367   7\n",
            "379  10\n",
            "381   7\n",
            "393  11\n",
            "\n",
            "[79 rows x 1 columns]\n"
          ],
          "name": "stdout"
        }
      ]
    },
    {
      "cell_type": "code",
      "metadata": {
        "id": "Ppo5qzrXJvhR"
      },
      "source": [
        "testPreds = model.predict(testFeatures).flatten() #array of all prediction values"
      ],
      "execution_count": 56,
      "outputs": []
    },
    {
      "cell_type": "code",
      "metadata": {
        "colab": {
          "base_uri": "https://localhost:8080/"
        },
        "id": "ObiCxEzZJ1Fd",
        "outputId": "95f9d7e5-4d84-4aed-9eed-3f8f45a069c0"
      },
      "source": [
        "print(len(testPreds))\n",
        "print(testPreds)"
      ],
      "execution_count": 57,
      "outputs": [
        {
          "output_type": "stream",
          "text": [
            "79\n",
            "[13.709594   6.8759413 11.146975  16.272213  16.272213  12.001181\n",
            " 13.709594  17.980627  17.980627   8.584354  13.709594  12.855387\n",
            "  8.584354   7.730148   9.4385605 12.855387  11.146975  15.418007\n",
            "  7.730148  10.292768  14.563801  12.855387  13.709594  15.418007\n",
            "  7.730148   7.730148   8.584354  10.292768  12.001181  10.292768\n",
            " 12.001181  12.855387  10.292768   6.8759413  9.4385605 12.001181\n",
            "  7.730148   8.584354  13.709594   9.4385605  9.4385605  7.730148\n",
            " 12.001181   6.8759413 12.855387   7.730148   7.730148  11.146975\n",
            " 12.855387  16.272213  12.001181  14.563801   9.4385605 12.001181\n",
            " 14.563801  12.001181  14.563801  12.001181  14.563801  11.146975\n",
            " 12.001181   8.584354  15.418007   7.730148  15.418007  11.146975\n",
            " 15.418007  12.855387   8.584354   8.584354  12.001181  17.12642\n",
            " 12.855387  15.418007  10.292768   7.730148  10.292768   7.730148\n",
            " 11.146975 ]\n"
          ],
          "name": "stdout"
        }
      ]
    },
    {
      "cell_type": "code",
      "metadata": {
        "colab": {
          "base_uri": "https://localhost:8080/",
          "height": 361
        },
        "id": "q1o_CAQdJ4Wr",
        "outputId": "8083a0a2-94c9-4c43-ed6c-6cbccfbcad1d"
      },
      "source": [
        "def plotGraph(labels  ,  predictions):\n",
        "  plt.scatter(labels , predictions)\n",
        "  plt.xlabel('True values ')\n",
        "  plt.ylabel('Prediction')\n",
        "  plt.axis('equal')\n",
        "  plt.axis('square')\n",
        "  plt.xlim([0, plt.xlim()[1]])\n",
        "  plt.ylim([0, plt.ylim()[1]])\n",
        "  plt.show()\n",
        "\n",
        "plotGraph(testLabels , testPreds)\n"
      ],
      "execution_count": 59,
      "outputs": [
        {
          "output_type": "display_data",
          "data": {
            "image/png": "[encoded data removed]",
            "text/plain": [
              "<Figure size 576x396 with 1 Axes>"
            ]
          },
          "metadata": {
            "tags": []
          }
        }
      ]
    },
    {
      "cell_type": "code",
      "metadata": {
        "colab": {
          "base_uri": "https://localhost:8080/",
          "height": 361
        },
        "id": "AFD3D3eyLU0R",
        "outputId": "e1a588a7-2963-4bf3-dfb1-a90c825a560a"
      },
      "source": [
        "#error plot --> gaussian distribution \n",
        "\n",
        "def errorPlot(preds, labels, counts):\n",
        "  errors = preds - labels\n",
        "  plt.hist(errors, counts)\n",
        "  plt.xlabel('Error')\n",
        "  plt.ylabel('Counts')\n",
        "  plt.show()\n",
        "\n",
        "errorPlot(testPreds, testLabels, numEpochs)"
      ],
      "execution_count": 60,
      "outputs": [
        {
          "output_type": "display_data",
          "data": {
            "image/png": "[encoded data removed]",
            "text/plain": [
              "<Figure size 576x396 with 1 Axes>"
            ]
          },
          "metadata": {
            "tags": []
          }
        }
      ]
    },
    {
      "cell_type": "markdown",
      "metadata": {
        "id": "6GH-fo9uMDjP"
      },
      "source": [
        "\n",
        "\n",
        "Note:\n",
        "\n",
        "Validation loss val_loss is a metric that tells you how much deviation from the actual label can you expect in the predicted label\n",
        "\n",
        "To optimize your predicitons -->\n",
        "\n",
        "    Hyperparameter tuning --> numEpochs, optimizer, learning_rate, lossFunctions\n",
        "\n"
      ]
    },
    {
      "cell_type": "code",
      "metadata": {
        "id": "3aoJ_I2ZL331"
      },
      "source": [
        ""
      ],
      "execution_count": null,
      "outputs": []
    }
  ]
}